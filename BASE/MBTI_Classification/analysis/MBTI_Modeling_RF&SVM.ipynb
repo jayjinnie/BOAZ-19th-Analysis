{
  "nbformat": 4,
  "nbformat_minor": 0,
  "metadata": {
    "colab": {
      "name": "MBTI Modeling_RF&SVM.ipynb",
      "provenance": [],
      "collapsed_sections": [
        "KJ66b6fCXmSQ",
        "QLCb_REZdFlJ"
      ]
    },
    "kernelspec": {
      "name": "python3",
      "display_name": "Python 3"
    },
    "language_info": {
      "name": "python"
    }
  },
  "cells": [
    {
      "cell_type": "markdown",
      "source": [
        "## 0. Library & Dataset Import"
      ],
      "metadata": {
        "id": "laLMfWqrH9L8"
      }
    },
    {
      "cell_type": "code",
      "source": [
        "!pip install mglearn"
      ],
      "metadata": {
        "colab": {
          "base_uri": "https://localhost:8080/"
        },
        "id": "RcIjJPSOeSOd",
        "outputId": "24055c58-a2a7-456c-e703-8d678477dd9f"
      },
      "execution_count": 1,
      "outputs": [
        {
          "output_type": "stream",
          "name": "stdout",
          "text": [
            "Looking in indexes: https://pypi.org/simple, https://us-python.pkg.dev/colab-wheels/public/simple/\n",
            "Requirement already satisfied: mglearn in /usr/local/lib/python3.7/dist-packages (0.1.9)\n",
            "Requirement already satisfied: scikit-learn in /usr/local/lib/python3.7/dist-packages (from mglearn) (1.0.2)\n",
            "Requirement already satisfied: imageio in /usr/local/lib/python3.7/dist-packages (from mglearn) (2.9.0)\n",
            "Requirement already satisfied: numpy in /usr/local/lib/python3.7/dist-packages (from mglearn) (1.21.6)\n",
            "Requirement already satisfied: matplotlib in /usr/local/lib/python3.7/dist-packages (from mglearn) (3.2.2)\n",
            "Requirement already satisfied: cycler in /usr/local/lib/python3.7/dist-packages (from mglearn) (0.11.0)\n",
            "Requirement already satisfied: pandas in /usr/local/lib/python3.7/dist-packages (from mglearn) (1.3.5)\n",
            "Requirement already satisfied: joblib in /usr/local/lib/python3.7/dist-packages (from mglearn) (1.1.0)\n",
            "Requirement already satisfied: pillow in /usr/local/lib/python3.7/dist-packages (from mglearn) (7.1.2)\n",
            "Requirement already satisfied: pyparsing!=2.0.4,!=2.1.2,!=2.1.6,>=2.0.1 in /usr/local/lib/python3.7/dist-packages (from matplotlib->mglearn) (3.0.9)\n",
            "Requirement already satisfied: kiwisolver>=1.0.1 in /usr/local/lib/python3.7/dist-packages (from matplotlib->mglearn) (1.4.4)\n",
            "Requirement already satisfied: python-dateutil>=2.1 in /usr/local/lib/python3.7/dist-packages (from matplotlib->mglearn) (2.8.2)\n",
            "Requirement already satisfied: typing-extensions in /usr/local/lib/python3.7/dist-packages (from kiwisolver>=1.0.1->matplotlib->mglearn) (4.1.1)\n",
            "Requirement already satisfied: six>=1.5 in /usr/local/lib/python3.7/dist-packages (from python-dateutil>=2.1->matplotlib->mglearn) (1.15.0)\n",
            "Requirement already satisfied: pytz>=2017.3 in /usr/local/lib/python3.7/dist-packages (from pandas->mglearn) (2022.2.1)\n",
            "Requirement already satisfied: scipy>=1.1.0 in /usr/local/lib/python3.7/dist-packages (from scikit-learn->mglearn) (1.7.3)\n",
            "Requirement already satisfied: threadpoolctl>=2.0.0 in /usr/local/lib/python3.7/dist-packages (from scikit-learn->mglearn) (3.1.0)\n"
          ]
        }
      ]
    },
    {
      "cell_type": "code",
      "execution_count": 2,
      "metadata": {
        "id": "ke2FZSdKHqYt"
      },
      "outputs": [],
      "source": [
        "# default\n",
        "import pandas as pd\n",
        "import numpy as np\n",
        "import matplotlib.pyplot as plt\n",
        "import seaborn as sns\n",
        "from collections import Counter\n",
        "import warnings\n",
        "warnings.filterwarnings('ignore')\n",
        "\n",
        "# nlp (tokenizing, normalization, stopwords)\n",
        "import nltk\n",
        "from nltk.corpus import stopwords\n",
        "\n",
        "# Random Forest\n",
        "from sklearn.ensemble import RandomForestClassifier\n",
        "from sklearn.model_selection import train_test_split, GridSearchCV\n",
        "\n",
        "# SVM\n",
        "from sklearn.preprocessing import MultiLabelBinarizer\n",
        "from sklearn.feature_extraction.text import TfidfVectorizer\n",
        "from sklearn.svm import LinearSVC\n",
        "from sklearn.pipeline import Pipeline\n",
        "import mglearn\n",
        "\n",
        "# Evaluation Performance\n",
        "from sklearn import metrics\n",
        "from sklearn.metrics import accuracy_score, recall_score, classification_report, f1_score"
      ]
    },
    {
      "cell_type": "code",
      "source": [
        "nltk.download('book')"
      ],
      "metadata": {
        "colab": {
          "base_uri": "https://localhost:8080/"
        },
        "id": "y8UdREKNRS6o",
        "outputId": "2aec685e-2a23-4ee8-90d3-75ccc6884cf8"
      },
      "execution_count": 3,
      "outputs": [
        {
          "output_type": "stream",
          "name": "stderr",
          "text": [
            "[nltk_data] Downloading collection 'book'\n",
            "[nltk_data]    | \n",
            "[nltk_data]    | Downloading package abc to /root/nltk_data...\n",
            "[nltk_data]    |   Package abc is already up-to-date!\n",
            "[nltk_data]    | Downloading package brown to /root/nltk_data...\n",
            "[nltk_data]    |   Package brown is already up-to-date!\n",
            "[nltk_data]    | Downloading package chat80 to /root/nltk_data...\n",
            "[nltk_data]    |   Package chat80 is already up-to-date!\n",
            "[nltk_data]    | Downloading package cmudict to /root/nltk_data...\n",
            "[nltk_data]    |   Package cmudict is already up-to-date!\n",
            "[nltk_data]    | Downloading package conll2000 to /root/nltk_data...\n",
            "[nltk_data]    |   Package conll2000 is already up-to-date!\n",
            "[nltk_data]    | Downloading package conll2002 to /root/nltk_data...\n",
            "[nltk_data]    |   Package conll2002 is already up-to-date!\n",
            "[nltk_data]    | Downloading package dependency_treebank to\n",
            "[nltk_data]    |     /root/nltk_data...\n",
            "[nltk_data]    |   Package dependency_treebank is already up-to-date!\n",
            "[nltk_data]    | Downloading package genesis to /root/nltk_data...\n",
            "[nltk_data]    |   Package genesis is already up-to-date!\n",
            "[nltk_data]    | Downloading package gutenberg to /root/nltk_data...\n",
            "[nltk_data]    |   Package gutenberg is already up-to-date!\n",
            "[nltk_data]    | Downloading package ieer to /root/nltk_data...\n",
            "[nltk_data]    |   Package ieer is already up-to-date!\n",
            "[nltk_data]    | Downloading package inaugural to /root/nltk_data...\n",
            "[nltk_data]    |   Package inaugural is already up-to-date!\n",
            "[nltk_data]    | Downloading package movie_reviews to\n",
            "[nltk_data]    |     /root/nltk_data...\n",
            "[nltk_data]    |   Package movie_reviews is already up-to-date!\n",
            "[nltk_data]    | Downloading package nps_chat to /root/nltk_data...\n",
            "[nltk_data]    |   Package nps_chat is already up-to-date!\n",
            "[nltk_data]    | Downloading package names to /root/nltk_data...\n",
            "[nltk_data]    |   Package names is already up-to-date!\n",
            "[nltk_data]    | Downloading package ppattach to /root/nltk_data...\n",
            "[nltk_data]    |   Package ppattach is already up-to-date!\n",
            "[nltk_data]    | Downloading package reuters to /root/nltk_data...\n",
            "[nltk_data]    |   Package reuters is already up-to-date!\n",
            "[nltk_data]    | Downloading package senseval to /root/nltk_data...\n",
            "[nltk_data]    |   Package senseval is already up-to-date!\n",
            "[nltk_data]    | Downloading package state_union to /root/nltk_data...\n",
            "[nltk_data]    |   Package state_union is already up-to-date!\n",
            "[nltk_data]    | Downloading package stopwords to /root/nltk_data...\n",
            "[nltk_data]    |   Package stopwords is already up-to-date!\n",
            "[nltk_data]    | Downloading package swadesh to /root/nltk_data...\n",
            "[nltk_data]    |   Package swadesh is already up-to-date!\n",
            "[nltk_data]    | Downloading package timit to /root/nltk_data...\n",
            "[nltk_data]    |   Package timit is already up-to-date!\n",
            "[nltk_data]    | Downloading package treebank to /root/nltk_data...\n",
            "[nltk_data]    |   Package treebank is already up-to-date!\n",
            "[nltk_data]    | Downloading package toolbox to /root/nltk_data...\n",
            "[nltk_data]    |   Package toolbox is already up-to-date!\n",
            "[nltk_data]    | Downloading package udhr to /root/nltk_data...\n",
            "[nltk_data]    |   Package udhr is already up-to-date!\n",
            "[nltk_data]    | Downloading package udhr2 to /root/nltk_data...\n",
            "[nltk_data]    |   Package udhr2 is already up-to-date!\n",
            "[nltk_data]    | Downloading package unicode_samples to\n",
            "[nltk_data]    |     /root/nltk_data...\n",
            "[nltk_data]    |   Package unicode_samples is already up-to-date!\n",
            "[nltk_data]    | Downloading package webtext to /root/nltk_data...\n",
            "[nltk_data]    |   Package webtext is already up-to-date!\n",
            "[nltk_data]    | Downloading package wordnet to /root/nltk_data...\n",
            "[nltk_data]    |   Package wordnet is already up-to-date!\n",
            "[nltk_data]    | Downloading package wordnet_ic to /root/nltk_data...\n",
            "[nltk_data]    |   Package wordnet_ic is already up-to-date!\n",
            "[nltk_data]    | Downloading package words to /root/nltk_data...\n",
            "[nltk_data]    |   Package words is already up-to-date!\n",
            "[nltk_data]    | Downloading package maxent_treebank_pos_tagger to\n",
            "[nltk_data]    |     /root/nltk_data...\n",
            "[nltk_data]    |   Package maxent_treebank_pos_tagger is already up-\n",
            "[nltk_data]    |       to-date!\n",
            "[nltk_data]    | Downloading package maxent_ne_chunker to\n",
            "[nltk_data]    |     /root/nltk_data...\n",
            "[nltk_data]    |   Package maxent_ne_chunker is already up-to-date!\n",
            "[nltk_data]    | Downloading package universal_tagset to\n",
            "[nltk_data]    |     /root/nltk_data...\n",
            "[nltk_data]    |   Package universal_tagset is already up-to-date!\n",
            "[nltk_data]    | Downloading package punkt to /root/nltk_data...\n",
            "[nltk_data]    |   Package punkt is already up-to-date!\n",
            "[nltk_data]    | Downloading package book_grammars to\n",
            "[nltk_data]    |     /root/nltk_data...\n",
            "[nltk_data]    |   Package book_grammars is already up-to-date!\n",
            "[nltk_data]    | Downloading package city_database to\n",
            "[nltk_data]    |     /root/nltk_data...\n",
            "[nltk_data]    |   Package city_database is already up-to-date!\n",
            "[nltk_data]    | Downloading package tagsets to /root/nltk_data...\n",
            "[nltk_data]    |   Package tagsets is already up-to-date!\n",
            "[nltk_data]    | Downloading package panlex_swadesh to\n",
            "[nltk_data]    |     /root/nltk_data...\n",
            "[nltk_data]    |   Package panlex_swadesh is already up-to-date!\n",
            "[nltk_data]    | Downloading package averaged_perceptron_tagger to\n",
            "[nltk_data]    |     /root/nltk_data...\n",
            "[nltk_data]    |   Package averaged_perceptron_tagger is already up-\n",
            "[nltk_data]    |       to-date!\n",
            "[nltk_data]    | \n",
            "[nltk_data]  Done downloading collection book\n"
          ]
        },
        {
          "output_type": "execute_result",
          "data": {
            "text/plain": [
              "True"
            ]
          },
          "metadata": {},
          "execution_count": 3
        }
      ]
    },
    {
      "cell_type": "code",
      "source": [
        "from google.colab import drive\n",
        "drive.mount('/content/drive')"
      ],
      "metadata": {
        "colab": {
          "base_uri": "https://localhost:8080/"
        },
        "id": "EtvbnzaCH76-",
        "outputId": "9e1fe32a-f81b-4be2-f956-f14f8ff926e5"
      },
      "execution_count": 4,
      "outputs": [
        {
          "output_type": "stream",
          "name": "stdout",
          "text": [
            "Drive already mounted at /content/drive; to attempt to forcibly remount, call drive.mount(\"/content/drive\", force_remount=True).\n"
          ]
        }
      ]
    },
    {
      "cell_type": "code",
      "source": [
        "data = pd.read_csv('/content/drive/MyDrive/MBTI 500.csv', encoding='UTF-8')\n",
        "USER_SAMPLE = 1"
      ],
      "metadata": {
        "id": "ofkdIpM_H8bj"
      },
      "execution_count": 5,
      "outputs": []
    },
    {
      "cell_type": "code",
      "source": [
        "# Sampling\n",
        "if USER_SAMPLE :\n",
        "    data = data.groupby('type').sample(frac = 0.05)\n",
        "data.reset_index(drop = True, inplace = True)"
      ],
      "metadata": {
        "id": "KaRplT1BIEoe"
      },
      "execution_count": 6,
      "outputs": []
    },
    {
      "cell_type": "markdown",
      "source": [
        "## 1. EDA"
      ],
      "metadata": {
        "id": "zHwhzX0QTcod"
      }
    },
    {
      "cell_type": "code",
      "source": [
        "data.head()"
      ],
      "metadata": {
        "colab": {
          "base_uri": "https://localhost:8080/",
          "height": 206
        },
        "id": "rhNlgdT9IHgI",
        "outputId": "625794e8-8a2c-428f-9ec0-078844863312"
      },
      "execution_count": 7,
      "outputs": [
        {
          "output_type": "execute_result",
          "data": {
            "text/plain": [
              "                                               posts  type\n",
              "0  tertiary function fe incline lot lack good wor...  ENFJ\n",
              "1  responsibility get emotionally involve help al...  ENFJ\n",
              "2  one engage ti jiujitsu rock climb obstacle cou...  ENFJ\n",
              "3  nikka extremely attract esfj would love date i...  ENFJ\n",
              "4  develop really empathetic character would like...  ENFJ"
            ],
            "text/html": [
              "\n",
              "  <div id=\"df-b0789c8d-80a6-48e7-ac54-7f674f49b85e\">\n",
              "    <div class=\"colab-df-container\">\n",
              "      <div>\n",
              "<style scoped>\n",
              "    .dataframe tbody tr th:only-of-type {\n",
              "        vertical-align: middle;\n",
              "    }\n",
              "\n",
              "    .dataframe tbody tr th {\n",
              "        vertical-align: top;\n",
              "    }\n",
              "\n",
              "    .dataframe thead th {\n",
              "        text-align: right;\n",
              "    }\n",
              "</style>\n",
              "<table border=\"1\" class=\"dataframe\">\n",
              "  <thead>\n",
              "    <tr style=\"text-align: right;\">\n",
              "      <th></th>\n",
              "      <th>posts</th>\n",
              "      <th>type</th>\n",
              "    </tr>\n",
              "  </thead>\n",
              "  <tbody>\n",
              "    <tr>\n",
              "      <th>0</th>\n",
              "      <td>tertiary function fe incline lot lack good wor...</td>\n",
              "      <td>ENFJ</td>\n",
              "    </tr>\n",
              "    <tr>\n",
              "      <th>1</th>\n",
              "      <td>responsibility get emotionally involve help al...</td>\n",
              "      <td>ENFJ</td>\n",
              "    </tr>\n",
              "    <tr>\n",
              "      <th>2</th>\n",
              "      <td>one engage ti jiujitsu rock climb obstacle cou...</td>\n",
              "      <td>ENFJ</td>\n",
              "    </tr>\n",
              "    <tr>\n",
              "      <th>3</th>\n",
              "      <td>nikka extremely attract esfj would love date i...</td>\n",
              "      <td>ENFJ</td>\n",
              "    </tr>\n",
              "    <tr>\n",
              "      <th>4</th>\n",
              "      <td>develop really empathetic character would like...</td>\n",
              "      <td>ENFJ</td>\n",
              "    </tr>\n",
              "  </tbody>\n",
              "</table>\n",
              "</div>\n",
              "      <button class=\"colab-df-convert\" onclick=\"convertToInteractive('df-b0789c8d-80a6-48e7-ac54-7f674f49b85e')\"\n",
              "              title=\"Convert this dataframe to an interactive table.\"\n",
              "              style=\"display:none;\">\n",
              "        \n",
              "  <svg xmlns=\"http://www.w3.org/2000/svg\" height=\"24px\"viewBox=\"0 0 24 24\"\n",
              "       width=\"24px\">\n",
              "    <path d=\"M0 0h24v24H0V0z\" fill=\"none\"/>\n",
              "    <path d=\"M18.56 5.44l.94 2.06.94-2.06 2.06-.94-2.06-.94-.94-2.06-.94 2.06-2.06.94zm-11 1L8.5 8.5l.94-2.06 2.06-.94-2.06-.94L8.5 2.5l-.94 2.06-2.06.94zm10 10l.94 2.06.94-2.06 2.06-.94-2.06-.94-.94-2.06-.94 2.06-2.06.94z\"/><path d=\"M17.41 7.96l-1.37-1.37c-.4-.4-.92-.59-1.43-.59-.52 0-1.04.2-1.43.59L10.3 9.45l-7.72 7.72c-.78.78-.78 2.05 0 2.83L4 21.41c.39.39.9.59 1.41.59.51 0 1.02-.2 1.41-.59l7.78-7.78 2.81-2.81c.8-.78.8-2.07 0-2.86zM5.41 20L4 18.59l7.72-7.72 1.47 1.35L5.41 20z\"/>\n",
              "  </svg>\n",
              "      </button>\n",
              "      \n",
              "  <style>\n",
              "    .colab-df-container {\n",
              "      display:flex;\n",
              "      flex-wrap:wrap;\n",
              "      gap: 12px;\n",
              "    }\n",
              "\n",
              "    .colab-df-convert {\n",
              "      background-color: #E8F0FE;\n",
              "      border: none;\n",
              "      border-radius: 50%;\n",
              "      cursor: pointer;\n",
              "      display: none;\n",
              "      fill: #1967D2;\n",
              "      height: 32px;\n",
              "      padding: 0 0 0 0;\n",
              "      width: 32px;\n",
              "    }\n",
              "\n",
              "    .colab-df-convert:hover {\n",
              "      background-color: #E2EBFA;\n",
              "      box-shadow: 0px 1px 2px rgba(60, 64, 67, 0.3), 0px 1px 3px 1px rgba(60, 64, 67, 0.15);\n",
              "      fill: #174EA6;\n",
              "    }\n",
              "\n",
              "    [theme=dark] .colab-df-convert {\n",
              "      background-color: #3B4455;\n",
              "      fill: #D2E3FC;\n",
              "    }\n",
              "\n",
              "    [theme=dark] .colab-df-convert:hover {\n",
              "      background-color: #434B5C;\n",
              "      box-shadow: 0px 1px 3px 1px rgba(0, 0, 0, 0.15);\n",
              "      filter: drop-shadow(0px 1px 2px rgba(0, 0, 0, 0.3));\n",
              "      fill: #FFFFFF;\n",
              "    }\n",
              "  </style>\n",
              "\n",
              "      <script>\n",
              "        const buttonEl =\n",
              "          document.querySelector('#df-b0789c8d-80a6-48e7-ac54-7f674f49b85e button.colab-df-convert');\n",
              "        buttonEl.style.display =\n",
              "          google.colab.kernel.accessAllowed ? 'block' : 'none';\n",
              "\n",
              "        async function convertToInteractive(key) {\n",
              "          const element = document.querySelector('#df-b0789c8d-80a6-48e7-ac54-7f674f49b85e');\n",
              "          const dataTable =\n",
              "            await google.colab.kernel.invokeFunction('convertToInteractive',\n",
              "                                                     [key], {});\n",
              "          if (!dataTable) return;\n",
              "\n",
              "          const docLinkHtml = 'Like what you see? Visit the ' +\n",
              "            '<a target=\"_blank\" href=https://colab.research.google.com/notebooks/data_table.ipynb>data table notebook</a>'\n",
              "            + ' to learn more about interactive tables.';\n",
              "          element.innerHTML = '';\n",
              "          dataTable['output_type'] = 'display_data';\n",
              "          await google.colab.output.renderOutput(dataTable, element);\n",
              "          const docLink = document.createElement('div');\n",
              "          docLink.innerHTML = docLinkHtml;\n",
              "          element.appendChild(docLink);\n",
              "        }\n",
              "      </script>\n",
              "    </div>\n",
              "  </div>\n",
              "  "
            ]
          },
          "metadata": {},
          "execution_count": 7
        }
      ]
    },
    {
      "cell_type": "code",
      "source": [
        "data.isnull().sum()"
      ],
      "metadata": {
        "colab": {
          "base_uri": "https://localhost:8080/"
        },
        "id": "v2_-3M9kIM-r",
        "outputId": "557dd898-ace2-4050-d02b-a63274a12b35"
      },
      "execution_count": 8,
      "outputs": [
        {
          "output_type": "execute_result",
          "data": {
            "text/plain": [
              "posts    0\n",
              "type     0\n",
              "dtype: int64"
            ]
          },
          "metadata": {},
          "execution_count": 8
        }
      ]
    },
    {
      "cell_type": "code",
      "source": [
        "data = data.rename(columns={'type' : 'mbti'})"
      ],
      "metadata": {
        "id": "MulcsFoXNNfd"
      },
      "execution_count": 9,
      "outputs": []
    },
    {
      "cell_type": "code",
      "source": [
        "# 포스팅별 단어 개수\n",
        "data['length'] = data['posts'].apply(lambda x : len(x.split(' ')))\n",
        "data['length'].describe()"
      ],
      "metadata": {
        "colab": {
          "base_uri": "https://localhost:8080/"
        },
        "id": "GzJB72CnTngx",
        "outputId": "cac75559-eb91-44b1-d187-3e44f54a7aa7"
      },
      "execution_count": 10,
      "outputs": [
        {
          "output_type": "execute_result",
          "data": {
            "text/plain": [
              "count    5302.000000\n",
              "mean      500.021501\n",
              "std         1.184980\n",
              "min       480.000000\n",
              "25%       500.000000\n",
              "50%       500.000000\n",
              "75%       500.000000\n",
              "max       522.000000\n",
              "Name: length, dtype: float64"
            ]
          },
          "metadata": {},
          "execution_count": 10
        }
      ]
    },
    {
      "cell_type": "code",
      "source": [
        "data.head()"
      ],
      "metadata": {
        "colab": {
          "base_uri": "https://localhost:8080/",
          "height": 206
        },
        "id": "7GyfW_wsU-2q",
        "outputId": "3cb816ab-9b8b-457c-f087-090bd822622d"
      },
      "execution_count": 11,
      "outputs": [
        {
          "output_type": "execute_result",
          "data": {
            "text/plain": [
              "                                               posts  mbti  length\n",
              "0  tertiary function fe incline lot lack good wor...  ENFJ     502\n",
              "1  responsibility get emotionally involve help al...  ENFJ     499\n",
              "2  one engage ti jiujitsu rock climb obstacle cou...  ENFJ     502\n",
              "3  nikka extremely attract esfj would love date i...  ENFJ     499\n",
              "4  develop really empathetic character would like...  ENFJ     498"
            ],
            "text/html": [
              "\n",
              "  <div id=\"df-a4425e6a-f449-4f36-adf9-32b1b761999d\">\n",
              "    <div class=\"colab-df-container\">\n",
              "      <div>\n",
              "<style scoped>\n",
              "    .dataframe tbody tr th:only-of-type {\n",
              "        vertical-align: middle;\n",
              "    }\n",
              "\n",
              "    .dataframe tbody tr th {\n",
              "        vertical-align: top;\n",
              "    }\n",
              "\n",
              "    .dataframe thead th {\n",
              "        text-align: right;\n",
              "    }\n",
              "</style>\n",
              "<table border=\"1\" class=\"dataframe\">\n",
              "  <thead>\n",
              "    <tr style=\"text-align: right;\">\n",
              "      <th></th>\n",
              "      <th>posts</th>\n",
              "      <th>mbti</th>\n",
              "      <th>length</th>\n",
              "    </tr>\n",
              "  </thead>\n",
              "  <tbody>\n",
              "    <tr>\n",
              "      <th>0</th>\n",
              "      <td>tertiary function fe incline lot lack good wor...</td>\n",
              "      <td>ENFJ</td>\n",
              "      <td>502</td>\n",
              "    </tr>\n",
              "    <tr>\n",
              "      <th>1</th>\n",
              "      <td>responsibility get emotionally involve help al...</td>\n",
              "      <td>ENFJ</td>\n",
              "      <td>499</td>\n",
              "    </tr>\n",
              "    <tr>\n",
              "      <th>2</th>\n",
              "      <td>one engage ti jiujitsu rock climb obstacle cou...</td>\n",
              "      <td>ENFJ</td>\n",
              "      <td>502</td>\n",
              "    </tr>\n",
              "    <tr>\n",
              "      <th>3</th>\n",
              "      <td>nikka extremely attract esfj would love date i...</td>\n",
              "      <td>ENFJ</td>\n",
              "      <td>499</td>\n",
              "    </tr>\n",
              "    <tr>\n",
              "      <th>4</th>\n",
              "      <td>develop really empathetic character would like...</td>\n",
              "      <td>ENFJ</td>\n",
              "      <td>498</td>\n",
              "    </tr>\n",
              "  </tbody>\n",
              "</table>\n",
              "</div>\n",
              "      <button class=\"colab-df-convert\" onclick=\"convertToInteractive('df-a4425e6a-f449-4f36-adf9-32b1b761999d')\"\n",
              "              title=\"Convert this dataframe to an interactive table.\"\n",
              "              style=\"display:none;\">\n",
              "        \n",
              "  <svg xmlns=\"http://www.w3.org/2000/svg\" height=\"24px\"viewBox=\"0 0 24 24\"\n",
              "       width=\"24px\">\n",
              "    <path d=\"M0 0h24v24H0V0z\" fill=\"none\"/>\n",
              "    <path d=\"M18.56 5.44l.94 2.06.94-2.06 2.06-.94-2.06-.94-.94-2.06-.94 2.06-2.06.94zm-11 1L8.5 8.5l.94-2.06 2.06-.94-2.06-.94L8.5 2.5l-.94 2.06-2.06.94zm10 10l.94 2.06.94-2.06 2.06-.94-2.06-.94-.94-2.06-.94 2.06-2.06.94z\"/><path d=\"M17.41 7.96l-1.37-1.37c-.4-.4-.92-.59-1.43-.59-.52 0-1.04.2-1.43.59L10.3 9.45l-7.72 7.72c-.78.78-.78 2.05 0 2.83L4 21.41c.39.39.9.59 1.41.59.51 0 1.02-.2 1.41-.59l7.78-7.78 2.81-2.81c.8-.78.8-2.07 0-2.86zM5.41 20L4 18.59l7.72-7.72 1.47 1.35L5.41 20z\"/>\n",
              "  </svg>\n",
              "      </button>\n",
              "      \n",
              "  <style>\n",
              "    .colab-df-container {\n",
              "      display:flex;\n",
              "      flex-wrap:wrap;\n",
              "      gap: 12px;\n",
              "    }\n",
              "\n",
              "    .colab-df-convert {\n",
              "      background-color: #E8F0FE;\n",
              "      border: none;\n",
              "      border-radius: 50%;\n",
              "      cursor: pointer;\n",
              "      display: none;\n",
              "      fill: #1967D2;\n",
              "      height: 32px;\n",
              "      padding: 0 0 0 0;\n",
              "      width: 32px;\n",
              "    }\n",
              "\n",
              "    .colab-df-convert:hover {\n",
              "      background-color: #E2EBFA;\n",
              "      box-shadow: 0px 1px 2px rgba(60, 64, 67, 0.3), 0px 1px 3px 1px rgba(60, 64, 67, 0.15);\n",
              "      fill: #174EA6;\n",
              "    }\n",
              "\n",
              "    [theme=dark] .colab-df-convert {\n",
              "      background-color: #3B4455;\n",
              "      fill: #D2E3FC;\n",
              "    }\n",
              "\n",
              "    [theme=dark] .colab-df-convert:hover {\n",
              "      background-color: #434B5C;\n",
              "      box-shadow: 0px 1px 3px 1px rgba(0, 0, 0, 0.15);\n",
              "      filter: drop-shadow(0px 1px 2px rgba(0, 0, 0, 0.3));\n",
              "      fill: #FFFFFF;\n",
              "    }\n",
              "  </style>\n",
              "\n",
              "      <script>\n",
              "        const buttonEl =\n",
              "          document.querySelector('#df-a4425e6a-f449-4f36-adf9-32b1b761999d button.colab-df-convert');\n",
              "        buttonEl.style.display =\n",
              "          google.colab.kernel.accessAllowed ? 'block' : 'none';\n",
              "\n",
              "        async function convertToInteractive(key) {\n",
              "          const element = document.querySelector('#df-a4425e6a-f449-4f36-adf9-32b1b761999d');\n",
              "          const dataTable =\n",
              "            await google.colab.kernel.invokeFunction('convertToInteractive',\n",
              "                                                     [key], {});\n",
              "          if (!dataTable) return;\n",
              "\n",
              "          const docLinkHtml = 'Like what you see? Visit the ' +\n",
              "            '<a target=\"_blank\" href=https://colab.research.google.com/notebooks/data_table.ipynb>data table notebook</a>'\n",
              "            + ' to learn more about interactive tables.';\n",
              "          element.innerHTML = '';\n",
              "          dataTable['output_type'] = 'display_data';\n",
              "          await google.colab.output.renderOutput(dataTable, element);\n",
              "          const docLink = document.createElement('div');\n",
              "          docLink.innerHTML = docLinkHtml;\n",
              "          element.appendChild(docLink);\n",
              "        }\n",
              "      </script>\n",
              "    </div>\n",
              "  </div>\n",
              "  "
            ]
          },
          "metadata": {},
          "execution_count": 11
        }
      ]
    },
    {
      "cell_type": "code",
      "source": [
        "data.dtypes"
      ],
      "metadata": {
        "colab": {
          "base_uri": "https://localhost:8080/"
        },
        "id": "soz3P4JgNkU8",
        "outputId": "97c1d4b4-eccc-42ec-81b8-8a47516bf2b0"
      },
      "execution_count": 12,
      "outputs": [
        {
          "output_type": "execute_result",
          "data": {
            "text/plain": [
              "posts     object\n",
              "mbti      object\n",
              "length     int64\n",
              "dtype: object"
            ]
          },
          "metadata": {},
          "execution_count": 12
        }
      ]
    },
    {
      "cell_type": "markdown",
      "source": [
        "## 2.  Dataset Pre-processing"
      ],
      "metadata": {
        "id": "3OyK7WrRJVM4"
      }
    },
    {
      "cell_type": "code",
      "source": [
        "# Target Column Labeling\n",
        "# Case4: E vs I , N vs S , F vs T , P vs J\n",
        "\n",
        "data['mbti'].replace(['ESTP', 'ESTJ', 'ESFP', 'ESFJ', 'ENTP', 'ENTJ', 'ENFP', 'ENFJ'], 'E', inplace=True)\n",
        "data['mbti'].replace(['ISTP', 'ISTJ', 'ISFP', 'ISFJ', 'INTP', 'INTJ', 'INFP', 'INFJ'], 'I', inplace=True)\n",
        "data.head()"
      ],
      "metadata": {
        "colab": {
          "base_uri": "https://localhost:8080/",
          "height": 206
        },
        "id": "iEzDW2hTOv33",
        "outputId": "bc2a1bc4-68f6-4bc2-b942-6012f1d4cc41"
      },
      "execution_count": 13,
      "outputs": [
        {
          "output_type": "execute_result",
          "data": {
            "text/plain": [
              "                                               posts mbti  length\n",
              "0  tertiary function fe incline lot lack good wor...    E     502\n",
              "1  responsibility get emotionally involve help al...    E     499\n",
              "2  one engage ti jiujitsu rock climb obstacle cou...    E     502\n",
              "3  nikka extremely attract esfj would love date i...    E     499\n",
              "4  develop really empathetic character would like...    E     498"
            ],
            "text/html": [
              "\n",
              "  <div id=\"df-7e81548a-17ac-4c6d-a512-007da347ad12\">\n",
              "    <div class=\"colab-df-container\">\n",
              "      <div>\n",
              "<style scoped>\n",
              "    .dataframe tbody tr th:only-of-type {\n",
              "        vertical-align: middle;\n",
              "    }\n",
              "\n",
              "    .dataframe tbody tr th {\n",
              "        vertical-align: top;\n",
              "    }\n",
              "\n",
              "    .dataframe thead th {\n",
              "        text-align: right;\n",
              "    }\n",
              "</style>\n",
              "<table border=\"1\" class=\"dataframe\">\n",
              "  <thead>\n",
              "    <tr style=\"text-align: right;\">\n",
              "      <th></th>\n",
              "      <th>posts</th>\n",
              "      <th>mbti</th>\n",
              "      <th>length</th>\n",
              "    </tr>\n",
              "  </thead>\n",
              "  <tbody>\n",
              "    <tr>\n",
              "      <th>0</th>\n",
              "      <td>tertiary function fe incline lot lack good wor...</td>\n",
              "      <td>E</td>\n",
              "      <td>502</td>\n",
              "    </tr>\n",
              "    <tr>\n",
              "      <th>1</th>\n",
              "      <td>responsibility get emotionally involve help al...</td>\n",
              "      <td>E</td>\n",
              "      <td>499</td>\n",
              "    </tr>\n",
              "    <tr>\n",
              "      <th>2</th>\n",
              "      <td>one engage ti jiujitsu rock climb obstacle cou...</td>\n",
              "      <td>E</td>\n",
              "      <td>502</td>\n",
              "    </tr>\n",
              "    <tr>\n",
              "      <th>3</th>\n",
              "      <td>nikka extremely attract esfj would love date i...</td>\n",
              "      <td>E</td>\n",
              "      <td>499</td>\n",
              "    </tr>\n",
              "    <tr>\n",
              "      <th>4</th>\n",
              "      <td>develop really empathetic character would like...</td>\n",
              "      <td>E</td>\n",
              "      <td>498</td>\n",
              "    </tr>\n",
              "  </tbody>\n",
              "</table>\n",
              "</div>\n",
              "      <button class=\"colab-df-convert\" onclick=\"convertToInteractive('df-7e81548a-17ac-4c6d-a512-007da347ad12')\"\n",
              "              title=\"Convert this dataframe to an interactive table.\"\n",
              "              style=\"display:none;\">\n",
              "        \n",
              "  <svg xmlns=\"http://www.w3.org/2000/svg\" height=\"24px\"viewBox=\"0 0 24 24\"\n",
              "       width=\"24px\">\n",
              "    <path d=\"M0 0h24v24H0V0z\" fill=\"none\"/>\n",
              "    <path d=\"M18.56 5.44l.94 2.06.94-2.06 2.06-.94-2.06-.94-.94-2.06-.94 2.06-2.06.94zm-11 1L8.5 8.5l.94-2.06 2.06-.94-2.06-.94L8.5 2.5l-.94 2.06-2.06.94zm10 10l.94 2.06.94-2.06 2.06-.94-2.06-.94-.94-2.06-.94 2.06-2.06.94z\"/><path d=\"M17.41 7.96l-1.37-1.37c-.4-.4-.92-.59-1.43-.59-.52 0-1.04.2-1.43.59L10.3 9.45l-7.72 7.72c-.78.78-.78 2.05 0 2.83L4 21.41c.39.39.9.59 1.41.59.51 0 1.02-.2 1.41-.59l7.78-7.78 2.81-2.81c.8-.78.8-2.07 0-2.86zM5.41 20L4 18.59l7.72-7.72 1.47 1.35L5.41 20z\"/>\n",
              "  </svg>\n",
              "      </button>\n",
              "      \n",
              "  <style>\n",
              "    .colab-df-container {\n",
              "      display:flex;\n",
              "      flex-wrap:wrap;\n",
              "      gap: 12px;\n",
              "    }\n",
              "\n",
              "    .colab-df-convert {\n",
              "      background-color: #E8F0FE;\n",
              "      border: none;\n",
              "      border-radius: 50%;\n",
              "      cursor: pointer;\n",
              "      display: none;\n",
              "      fill: #1967D2;\n",
              "      height: 32px;\n",
              "      padding: 0 0 0 0;\n",
              "      width: 32px;\n",
              "    }\n",
              "\n",
              "    .colab-df-convert:hover {\n",
              "      background-color: #E2EBFA;\n",
              "      box-shadow: 0px 1px 2px rgba(60, 64, 67, 0.3), 0px 1px 3px 1px rgba(60, 64, 67, 0.15);\n",
              "      fill: #174EA6;\n",
              "    }\n",
              "\n",
              "    [theme=dark] .colab-df-convert {\n",
              "      background-color: #3B4455;\n",
              "      fill: #D2E3FC;\n",
              "    }\n",
              "\n",
              "    [theme=dark] .colab-df-convert:hover {\n",
              "      background-color: #434B5C;\n",
              "      box-shadow: 0px 1px 3px 1px rgba(0, 0, 0, 0.15);\n",
              "      filter: drop-shadow(0px 1px 2px rgba(0, 0, 0, 0.3));\n",
              "      fill: #FFFFFF;\n",
              "    }\n",
              "  </style>\n",
              "\n",
              "      <script>\n",
              "        const buttonEl =\n",
              "          document.querySelector('#df-7e81548a-17ac-4c6d-a512-007da347ad12 button.colab-df-convert');\n",
              "        buttonEl.style.display =\n",
              "          google.colab.kernel.accessAllowed ? 'block' : 'none';\n",
              "\n",
              "        async function convertToInteractive(key) {\n",
              "          const element = document.querySelector('#df-7e81548a-17ac-4c6d-a512-007da347ad12');\n",
              "          const dataTable =\n",
              "            await google.colab.kernel.invokeFunction('convertToInteractive',\n",
              "                                                     [key], {});\n",
              "          if (!dataTable) return;\n",
              "\n",
              "          const docLinkHtml = 'Like what you see? Visit the ' +\n",
              "            '<a target=\"_blank\" href=https://colab.research.google.com/notebooks/data_table.ipynb>data table notebook</a>'\n",
              "            + ' to learn more about interactive tables.';\n",
              "          element.innerHTML = '';\n",
              "          dataTable['output_type'] = 'display_data';\n",
              "          await google.colab.output.renderOutput(dataTable, element);\n",
              "          const docLink = document.createElement('div');\n",
              "          docLink.innerHTML = docLinkHtml;\n",
              "          element.appendChild(docLink);\n",
              "        }\n",
              "      </script>\n",
              "    </div>\n",
              "  </div>\n",
              "  "
            ]
          },
          "metadata": {},
          "execution_count": 13
        }
      ]
    },
    {
      "cell_type": "code",
      "source": [
        "data['mbti'].unique()"
      ],
      "metadata": {
        "colab": {
          "base_uri": "https://localhost:8080/"
        },
        "id": "UfrfRjrRUe8H",
        "outputId": "4b2416d4-f938-446f-cf3d-8d2ca91bbe28"
      },
      "execution_count": 14,
      "outputs": [
        {
          "output_type": "execute_result",
          "data": {
            "text/plain": [
              "array(['E', 'I'], dtype=object)"
            ]
          },
          "metadata": {},
          "execution_count": 14
        }
      ]
    },
    {
      "cell_type": "code",
      "source": [
        "# posts 컬럼의 단어 추출\n",
        "words = list()\n",
        "\n",
        "for i in list(data['posts']):\n",
        "  for j in i.split(' '):\n",
        "    words.append(j)"
      ],
      "metadata": {
        "id": "14JPKXiSITMb"
      },
      "execution_count": 15,
      "outputs": []
    },
    {
      "cell_type": "code",
      "source": [
        "words[:10]"
      ],
      "metadata": {
        "colab": {
          "base_uri": "https://localhost:8080/"
        },
        "id": "th2-aQMfMNIM",
        "outputId": "3a1582f1-b808-4066-c29b-6ae191c6ea4a"
      },
      "execution_count": 16,
      "outputs": [
        {
          "output_type": "execute_result",
          "data": {
            "text/plain": [
              "['tertiary',\n",
              " 'function',\n",
              " 'fe',\n",
              " 'incline',\n",
              " 'lot',\n",
              " 'lack',\n",
              " 'good',\n",
              " 'word',\n",
              " 'give',\n",
              " 'add']"
            ]
          },
          "metadata": {},
          "execution_count": 16
        }
      ]
    },
    {
      "cell_type": "code",
      "source": [
        "len(words)"
      ],
      "metadata": {
        "colab": {
          "base_uri": "https://localhost:8080/"
        },
        "id": "W8rftZNvTYRP",
        "outputId": "e885b314-046b-4982-a6f3-04e0151f4329"
      },
      "execution_count": 17,
      "outputs": [
        {
          "output_type": "execute_result",
          "data": {
            "text/plain": [
              "2651114"
            ]
          },
          "metadata": {},
          "execution_count": 17
        }
      ]
    },
    {
      "cell_type": "code",
      "source": [
        "# mbti 단어를 stopwords로 지정, posts 컬럼 정제\n",
        "my_stopwords = {'estp', 'estj', 'esfp', 'esfj', 'entp', 'entj', 'enfp', 'enfj', 'istp', 'istj', 'isfp', 'isfj', 'intp', 'intj', 'infp', 'infj'}\n",
        "\n",
        "words = [i for i in words if i not in my_stopwords]\n",
        "words[:10]"
      ],
      "metadata": {
        "colab": {
          "base_uri": "https://localhost:8080/"
        },
        "id": "db7VRELUSYQ3",
        "outputId": "c56c2003-b00e-4b78-f934-7cf6ed9958fb"
      },
      "execution_count": 18,
      "outputs": [
        {
          "output_type": "execute_result",
          "data": {
            "text/plain": [
              "['tertiary',\n",
              " 'function',\n",
              " 'fe',\n",
              " 'incline',\n",
              " 'lot',\n",
              " 'lack',\n",
              " 'good',\n",
              " 'word',\n",
              " 'give',\n",
              " 'add']"
            ]
          },
          "metadata": {},
          "execution_count": 18
        }
      ]
    },
    {
      "cell_type": "code",
      "source": [
        "len(words)"
      ],
      "metadata": {
        "colab": {
          "base_uri": "https://localhost:8080/"
        },
        "id": "OIPNrGmyTaFt",
        "outputId": "19965dd8-94b6-4951-a1c9-1274540c1434"
      },
      "execution_count": 19,
      "outputs": [
        {
          "output_type": "execute_result",
          "data": {
            "text/plain": [
              "2618578"
            ]
          },
          "metadata": {},
          "execution_count": 19
        }
      ]
    },
    {
      "cell_type": "code",
      "source": [
        "# 단어별 빈도수 계산\n",
        "words_dic = Counter(words)\n",
        "words_dic = pd.DataFrame({'Word':list(words_dic.keys()), 'Frequency':list(words_dic.values())})\n",
        "\n",
        "# 빈도수 내림차순 정렬된 데이터프레임 생성\n",
        "words_dic.sort_values('Frequency', ascending=False, inplace=True)\n",
        "words_dic.set_index('Word', inplace=True)\n",
        "\n",
        "print(len(words_dic))\n",
        "words_dic.head()"
      ],
      "metadata": {
        "colab": {
          "base_uri": "https://localhost:8080/",
          "height": 255
        },
        "id": "_7HwTostMOHK",
        "outputId": "f9dca287-d724-46a6-e61b-3d5e718a660a"
      },
      "execution_count": 20,
      "outputs": [
        {
          "output_type": "stream",
          "name": "stdout",
          "text": [
            "50933\n"
          ]
        },
        {
          "output_type": "execute_result",
          "data": {
            "text/plain": [
              "        Frequency\n",
              "Word             \n",
              "like        34489\n",
              "think       29657\n",
              "people      27533\n",
              "get         26642\n",
              "make        20225"
            ],
            "text/html": [
              "\n",
              "  <div id=\"df-85b404c0-4052-411f-bb61-19f8adeebdcf\">\n",
              "    <div class=\"colab-df-container\">\n",
              "      <div>\n",
              "<style scoped>\n",
              "    .dataframe tbody tr th:only-of-type {\n",
              "        vertical-align: middle;\n",
              "    }\n",
              "\n",
              "    .dataframe tbody tr th {\n",
              "        vertical-align: top;\n",
              "    }\n",
              "\n",
              "    .dataframe thead th {\n",
              "        text-align: right;\n",
              "    }\n",
              "</style>\n",
              "<table border=\"1\" class=\"dataframe\">\n",
              "  <thead>\n",
              "    <tr style=\"text-align: right;\">\n",
              "      <th></th>\n",
              "      <th>Frequency</th>\n",
              "    </tr>\n",
              "    <tr>\n",
              "      <th>Word</th>\n",
              "      <th></th>\n",
              "    </tr>\n",
              "  </thead>\n",
              "  <tbody>\n",
              "    <tr>\n",
              "      <th>like</th>\n",
              "      <td>34489</td>\n",
              "    </tr>\n",
              "    <tr>\n",
              "      <th>think</th>\n",
              "      <td>29657</td>\n",
              "    </tr>\n",
              "    <tr>\n",
              "      <th>people</th>\n",
              "      <td>27533</td>\n",
              "    </tr>\n",
              "    <tr>\n",
              "      <th>get</th>\n",
              "      <td>26642</td>\n",
              "    </tr>\n",
              "    <tr>\n",
              "      <th>make</th>\n",
              "      <td>20225</td>\n",
              "    </tr>\n",
              "  </tbody>\n",
              "</table>\n",
              "</div>\n",
              "      <button class=\"colab-df-convert\" onclick=\"convertToInteractive('df-85b404c0-4052-411f-bb61-19f8adeebdcf')\"\n",
              "              title=\"Convert this dataframe to an interactive table.\"\n",
              "              style=\"display:none;\">\n",
              "        \n",
              "  <svg xmlns=\"http://www.w3.org/2000/svg\" height=\"24px\"viewBox=\"0 0 24 24\"\n",
              "       width=\"24px\">\n",
              "    <path d=\"M0 0h24v24H0V0z\" fill=\"none\"/>\n",
              "    <path d=\"M18.56 5.44l.94 2.06.94-2.06 2.06-.94-2.06-.94-.94-2.06-.94 2.06-2.06.94zm-11 1L8.5 8.5l.94-2.06 2.06-.94-2.06-.94L8.5 2.5l-.94 2.06-2.06.94zm10 10l.94 2.06.94-2.06 2.06-.94-2.06-.94-.94-2.06-.94 2.06-2.06.94z\"/><path d=\"M17.41 7.96l-1.37-1.37c-.4-.4-.92-.59-1.43-.59-.52 0-1.04.2-1.43.59L10.3 9.45l-7.72 7.72c-.78.78-.78 2.05 0 2.83L4 21.41c.39.39.9.59 1.41.59.51 0 1.02-.2 1.41-.59l7.78-7.78 2.81-2.81c.8-.78.8-2.07 0-2.86zM5.41 20L4 18.59l7.72-7.72 1.47 1.35L5.41 20z\"/>\n",
              "  </svg>\n",
              "      </button>\n",
              "      \n",
              "  <style>\n",
              "    .colab-df-container {\n",
              "      display:flex;\n",
              "      flex-wrap:wrap;\n",
              "      gap: 12px;\n",
              "    }\n",
              "\n",
              "    .colab-df-convert {\n",
              "      background-color: #E8F0FE;\n",
              "      border: none;\n",
              "      border-radius: 50%;\n",
              "      cursor: pointer;\n",
              "      display: none;\n",
              "      fill: #1967D2;\n",
              "      height: 32px;\n",
              "      padding: 0 0 0 0;\n",
              "      width: 32px;\n",
              "    }\n",
              "\n",
              "    .colab-df-convert:hover {\n",
              "      background-color: #E2EBFA;\n",
              "      box-shadow: 0px 1px 2px rgba(60, 64, 67, 0.3), 0px 1px 3px 1px rgba(60, 64, 67, 0.15);\n",
              "      fill: #174EA6;\n",
              "    }\n",
              "\n",
              "    [theme=dark] .colab-df-convert {\n",
              "      background-color: #3B4455;\n",
              "      fill: #D2E3FC;\n",
              "    }\n",
              "\n",
              "    [theme=dark] .colab-df-convert:hover {\n",
              "      background-color: #434B5C;\n",
              "      box-shadow: 0px 1px 3px 1px rgba(0, 0, 0, 0.15);\n",
              "      filter: drop-shadow(0px 1px 2px rgba(0, 0, 0, 0.3));\n",
              "      fill: #FFFFFF;\n",
              "    }\n",
              "  </style>\n",
              "\n",
              "      <script>\n",
              "        const buttonEl =\n",
              "          document.querySelector('#df-85b404c0-4052-411f-bb61-19f8adeebdcf button.colab-df-convert');\n",
              "        buttonEl.style.display =\n",
              "          google.colab.kernel.accessAllowed ? 'block' : 'none';\n",
              "\n",
              "        async function convertToInteractive(key) {\n",
              "          const element = document.querySelector('#df-85b404c0-4052-411f-bb61-19f8adeebdcf');\n",
              "          const dataTable =\n",
              "            await google.colab.kernel.invokeFunction('convertToInteractive',\n",
              "                                                     [key], {});\n",
              "          if (!dataTable) return;\n",
              "\n",
              "          const docLinkHtml = 'Like what you see? Visit the ' +\n",
              "            '<a target=\"_blank\" href=https://colab.research.google.com/notebooks/data_table.ipynb>data table notebook</a>'\n",
              "            + ' to learn more about interactive tables.';\n",
              "          element.innerHTML = '';\n",
              "          dataTable['output_type'] = 'display_data';\n",
              "          await google.colab.output.renderOutput(dataTable, element);\n",
              "          const docLink = document.createElement('div');\n",
              "          docLink.innerHTML = docLinkHtml;\n",
              "          element.appendChild(docLink);\n",
              "        }\n",
              "      </script>\n",
              "    </div>\n",
              "  </div>\n",
              "  "
            ]
          },
          "metadata": {},
          "execution_count": 20
        }
      ]
    },
    {
      "cell_type": "code",
      "source": [
        "# 단어별 빈도수 분포 확인\n",
        "words_dic['Frequency'].describe()"
      ],
      "metadata": {
        "colab": {
          "base_uri": "https://localhost:8080/"
        },
        "id": "FL3xauFTNQKH",
        "outputId": "665f4874-ab87-401b-8e78-cc4092399254"
      },
      "execution_count": 21,
      "outputs": [
        {
          "output_type": "execute_result",
          "data": {
            "text/plain": [
              "count    50933.000000\n",
              "mean        51.412208\n",
              "std        508.642920\n",
              "min          1.000000\n",
              "25%          1.000000\n",
              "50%          2.000000\n",
              "75%          7.000000\n",
              "max      34489.000000\n",
              "Name: Frequency, dtype: float64"
            ]
          },
          "metadata": {},
          "execution_count": 21
        }
      ]
    },
    {
      "cell_type": "code",
      "source": [
        "plt.boxplot(words_dic['Frequency'])\n",
        "\n",
        "Q1 = words_dic['Frequency'].quantile(.25)\n",
        "Q3 = words_dic['Frequency'].quantile(.75)\n",
        "IQR = Q3 - Q1\n",
        "Q2 = words_dic['Frequency'].quantile(.5)\n",
        "Q4 = words_dic['Frequency'].quantile(1)\n",
        "\n",
        "print(\"Q1 =\",Q1)\n",
        "print(\"Q3 =\",Q3)\n",
        "print(\"IQR =\",IQR)\n",
        "print(\"Q2 =\",Q2)\n",
        "print(\"Q4 =\",Q4)"
      ],
      "metadata": {
        "colab": {
          "base_uri": "https://localhost:8080/",
          "height": 352
        },
        "id": "bCqhlCVcNmKR",
        "outputId": "dcf1992b-e011-4eb7-8093-6992c04b1d52"
      },
      "execution_count": 22,
      "outputs": [
        {
          "output_type": "stream",
          "name": "stdout",
          "text": [
            "Q1 = 1.0\n",
            "Q3 = 7.0\n",
            "IQR = 6.0\n",
            "Q2 = 2.0\n",
            "Q4 = 34489.0\n"
          ]
        },
        {
          "output_type": "display_data",
          "data": {
            "text/plain": [
              "<Figure size 432x288 with 1 Axes>"
            ],
            "image/png": "[encoded data removed]"
          },
          "metadata": {
            "needs_background": "light"
          }
        }
      ]
    },
    {
      "cell_type": "code",
      "source": [
        "start = np.arange(0, 1, 0.1)\n",
        "end = np.arange(0.91, 1, 0.01)"
      ],
      "metadata": {
        "id": "CP7uPF9PN5El"
      },
      "execution_count": 23,
      "outputs": []
    },
    {
      "cell_type": "code",
      "source": [
        "# 4분위수 범위 더 좁혀보기\n",
        "for i in start:\n",
        "    print(words_dic['Frequency'].quantile(i))"
      ],
      "metadata": {
        "colab": {
          "base_uri": "https://localhost:8080/"
        },
        "id": "ImBQb-sBOAK2",
        "outputId": "ed1bdea5-ea5c-47be-a408-926e86c3159a"
      },
      "execution_count": 24,
      "outputs": [
        {
          "output_type": "stream",
          "name": "stdout",
          "text": [
            "1.0\n",
            "1.0\n",
            "1.0\n",
            "1.0\n",
            "1.0\n",
            "2.0\n",
            "2.0\n",
            "5.0\n",
            "10.0\n",
            "36.0\n"
          ]
        }
      ]
    },
    {
      "cell_type": "code",
      "source": [
        "for i in end:\n",
        "    print(words_dic['Frequency'].quantile(i))"
      ],
      "metadata": {
        "colab": {
          "base_uri": "https://localhost:8080/"
        },
        "id": "BXG-i_HxOBcu",
        "outputId": "ed90d2b6-84cd-4e09-8c71-6ebca42f0ac8"
      },
      "execution_count": 25,
      "outputs": [
        {
          "output_type": "stream",
          "name": "stdout",
          "text": [
            "43.0\n",
            "53.0\n",
            "67.0\n",
            "87.0\n",
            "113.0\n",
            "159.72000000000844\n",
            "237.0\n",
            "420.0800000000236\n",
            "945.0\n"
          ]
        }
      ]
    },
    {
      "cell_type": "code",
      "source": [
        "words_dic = words_dic[words_dic.Frequency > 3000]\n",
        "len(words_dic)\n",
        "# 각 MBTI 포스팅개수 간의 편차가 크므로, \n",
        "# 모든 MBTI에 출현했을 확률이 높은, 높은 빈도수의 단어를 추출"
      ],
      "metadata": {
        "colab": {
          "base_uri": "https://localhost:8080/"
        },
        "id": "017VYO_NOGOm",
        "outputId": "49f4ef03-ce80-4fe6-ddf4-c625e2250e9b"
      },
      "execution_count": 26,
      "outputs": [
        {
          "output_type": "execute_result",
          "data": {
            "text/plain": [
              "144"
            ]
          },
          "metadata": {},
          "execution_count": 26
        }
      ]
    },
    {
      "cell_type": "code",
      "source": [
        "mode_words = list(words_dic.index)\n",
        "\n",
        "for i in mode_words:\n",
        "    data[i] = data['posts'].apply(lambda x : 1 if i in x.split(' ') else 0)\n",
        "\n",
        "data.drop(['length','posts'],axis=1,inplace=True)\n",
        "data.head()"
      ],
      "metadata": {
        "colab": {
          "base_uri": "https://localhost:8080/",
          "height": 236
        },
        "id": "8cxeOna2OVxX",
        "outputId": "e4fe8761-7cd5-4ec5-b4ff-98d89220f2cc"
      },
      "execution_count": 27,
      "outputs": [
        {
          "output_type": "execute_result",
          "data": {
            "text/plain": [
              "  mbti  like  think  people  get  make  thing  know  feel  one  ...  word  le  \\\n",
              "0    E     1      1       0    1     1      1     1     1    1  ...     1   0   \n",
              "1    E     1      1       1    1     1      1     1     1    0  ...     1   0   \n",
              "2    E     1      1       1    1     1      1     1     1    1  ...     0   0   \n",
              "3    E     1      1       1    1     1      1     1     1    1  ...     0   1   \n",
              "4    E     1      1       1    1     1      1     1     1    1  ...     1   0   \n",
              "\n",
              "   wrong  fi  least  big  enjoy  call  tend  game  \n",
              "0      0   0      0    1      0     0     1     0  \n",
              "1      1   1      0    1      0     1     0     1  \n",
              "2      1   0      0    0      1     0     0     1  \n",
              "3      0   0      0    0      1     1     1     0  \n",
              "4      1   1      1    1      1     0     0     0  \n",
              "\n",
              "[5 rows x 145 columns]"
            ],
            "text/html": [
              "\n",
              "  <div id=\"df-94c00438-f2fe-44c9-abbd-ea3b20f6a4a8\">\n",
              "    <div class=\"colab-df-container\">\n",
              "      <div>\n",
              "<style scoped>\n",
              "    .dataframe tbody tr th:only-of-type {\n",
              "        vertical-align: middle;\n",
              "    }\n",
              "\n",
              "    .dataframe tbody tr th {\n",
              "        vertical-align: top;\n",
              "    }\n",
              "\n",
              "    .dataframe thead th {\n",
              "        text-align: right;\n",
              "    }\n",
              "</style>\n",
              "<table border=\"1\" class=\"dataframe\">\n",
              "  <thead>\n",
              "    <tr style=\"text-align: right;\">\n",
              "      <th></th>\n",
              "      <th>mbti</th>\n",
              "      <th>like</th>\n",
              "      <th>think</th>\n",
              "      <th>people</th>\n",
              "      <th>get</th>\n",
              "      <th>make</th>\n",
              "      <th>thing</th>\n",
              "      <th>know</th>\n",
              "      <th>feel</th>\n",
              "      <th>one</th>\n",
              "      <th>...</th>\n",
              "      <th>word</th>\n",
              "      <th>le</th>\n",
              "      <th>wrong</th>\n",
              "      <th>fi</th>\n",
              "      <th>least</th>\n",
              "      <th>big</th>\n",
              "      <th>enjoy</th>\n",
              "      <th>call</th>\n",
              "      <th>tend</th>\n",
              "      <th>game</th>\n",
              "    </tr>\n",
              "  </thead>\n",
              "  <tbody>\n",
              "    <tr>\n",
              "      <th>0</th>\n",
              "      <td>E</td>\n",
              "      <td>1</td>\n",
              "      <td>1</td>\n",
              "      <td>0</td>\n",
              "      <td>1</td>\n",
              "      <td>1</td>\n",
              "      <td>1</td>\n",
              "      <td>1</td>\n",
              "      <td>1</td>\n",
              "      <td>1</td>\n",
              "      <td>...</td>\n",
              "      <td>1</td>\n",
              "      <td>0</td>\n",
              "      <td>0</td>\n",
              "      <td>0</td>\n",
              "      <td>0</td>\n",
              "      <td>1</td>\n",
              "      <td>0</td>\n",
              "      <td>0</td>\n",
              "      <td>1</td>\n",
              "      <td>0</td>\n",
              "    </tr>\n",
              "    <tr>\n",
              "      <th>1</th>\n",
              "      <td>E</td>\n",
              "      <td>1</td>\n",
              "      <td>1</td>\n",
              "      <td>1</td>\n",
              "      <td>1</td>\n",
              "      <td>1</td>\n",
              "      <td>1</td>\n",
              "      <td>1</td>\n",
              "      <td>1</td>\n",
              "      <td>0</td>\n",
              "      <td>...</td>\n",
              "      <td>1</td>\n",
              "      <td>0</td>\n",
              "      <td>1</td>\n",
              "      <td>1</td>\n",
              "      <td>0</td>\n",
              "      <td>1</td>\n",
              "      <td>0</td>\n",
              "      <td>1</td>\n",
              "      <td>0</td>\n",
              "      <td>1</td>\n",
              "    </tr>\n",
              "    <tr>\n",
              "      <th>2</th>\n",
              "      <td>E</td>\n",
              "      <td>1</td>\n",
              "      <td>1</td>\n",
              "      <td>1</td>\n",
              "      <td>1</td>\n",
              "      <td>1</td>\n",
              "      <td>1</td>\n",
              "      <td>1</td>\n",
              "      <td>1</td>\n",
              "      <td>1</td>\n",
              "      <td>...</td>\n",
              "      <td>0</td>\n",
              "      <td>0</td>\n",
              "      <td>1</td>\n",
              "      <td>0</td>\n",
              "      <td>0</td>\n",
              "      <td>0</td>\n",
              "      <td>1</td>\n",
              "      <td>0</td>\n",
              "      <td>0</td>\n",
              "      <td>1</td>\n",
              "    </tr>\n",
              "    <tr>\n",
              "      <th>3</th>\n",
              "      <td>E</td>\n",
              "      <td>1</td>\n",
              "      <td>1</td>\n",
              "      <td>1</td>\n",
              "      <td>1</td>\n",
              "      <td>1</td>\n",
              "      <td>1</td>\n",
              "      <td>1</td>\n",
              "      <td>1</td>\n",
              "      <td>1</td>\n",
              "      <td>...</td>\n",
              "      <td>0</td>\n",
              "      <td>1</td>\n",
              "      <td>0</td>\n",
              "      <td>0</td>\n",
              "      <td>0</td>\n",
              "      <td>0</td>\n",
              "      <td>1</td>\n",
              "      <td>1</td>\n",
              "      <td>1</td>\n",
              "      <td>0</td>\n",
              "    </tr>\n",
              "    <tr>\n",
              "      <th>4</th>\n",
              "      <td>E</td>\n",
              "      <td>1</td>\n",
              "      <td>1</td>\n",
              "      <td>1</td>\n",
              "      <td>1</td>\n",
              "      <td>1</td>\n",
              "      <td>1</td>\n",
              "      <td>1</td>\n",
              "      <td>1</td>\n",
              "      <td>1</td>\n",
              "      <td>...</td>\n",
              "      <td>1</td>\n",
              "      <td>0</td>\n",
              "      <td>1</td>\n",
              "      <td>1</td>\n",
              "      <td>1</td>\n",
              "      <td>1</td>\n",
              "      <td>1</td>\n",
              "      <td>0</td>\n",
              "      <td>0</td>\n",
              "      <td>0</td>\n",
              "    </tr>\n",
              "  </tbody>\n",
              "</table>\n",
              "<p>5 rows × 145 columns</p>\n",
              "</div>\n",
              "      <button class=\"colab-df-convert\" onclick=\"convertToInteractive('df-94c00438-f2fe-44c9-abbd-ea3b20f6a4a8')\"\n",
              "              title=\"Convert this dataframe to an interactive table.\"\n",
              "              style=\"display:none;\">\n",
              "        \n",
              "  <svg xmlns=\"http://www.w3.org/2000/svg\" height=\"24px\"viewBox=\"0 0 24 24\"\n",
              "       width=\"24px\">\n",
              "    <path d=\"M0 0h24v24H0V0z\" fill=\"none\"/>\n",
              "    <path d=\"M18.56 5.44l.94 2.06.94-2.06 2.06-.94-2.06-.94-.94-2.06-.94 2.06-2.06.94zm-11 1L8.5 8.5l.94-2.06 2.06-.94-2.06-.94L8.5 2.5l-.94 2.06-2.06.94zm10 10l.94 2.06.94-2.06 2.06-.94-2.06-.94-.94-2.06-.94 2.06-2.06.94z\"/><path d=\"M17.41 7.96l-1.37-1.37c-.4-.4-.92-.59-1.43-.59-.52 0-1.04.2-1.43.59L10.3 9.45l-7.72 7.72c-.78.78-.78 2.05 0 2.83L4 21.41c.39.39.9.59 1.41.59.51 0 1.02-.2 1.41-.59l7.78-7.78 2.81-2.81c.8-.78.8-2.07 0-2.86zM5.41 20L4 18.59l7.72-7.72 1.47 1.35L5.41 20z\"/>\n",
              "  </svg>\n",
              "      </button>\n",
              "      \n",
              "  <style>\n",
              "    .colab-df-container {\n",
              "      display:flex;\n",
              "      flex-wrap:wrap;\n",
              "      gap: 12px;\n",
              "    }\n",
              "\n",
              "    .colab-df-convert {\n",
              "      background-color: #E8F0FE;\n",
              "      border: none;\n",
              "      border-radius: 50%;\n",
              "      cursor: pointer;\n",
              "      display: none;\n",
              "      fill: #1967D2;\n",
              "      height: 32px;\n",
              "      padding: 0 0 0 0;\n",
              "      width: 32px;\n",
              "    }\n",
              "\n",
              "    .colab-df-convert:hover {\n",
              "      background-color: #E2EBFA;\n",
              "      box-shadow: 0px 1px 2px rgba(60, 64, 67, 0.3), 0px 1px 3px 1px rgba(60, 64, 67, 0.15);\n",
              "      fill: #174EA6;\n",
              "    }\n",
              "\n",
              "    [theme=dark] .colab-df-convert {\n",
              "      background-color: #3B4455;\n",
              "      fill: #D2E3FC;\n",
              "    }\n",
              "\n",
              "    [theme=dark] .colab-df-convert:hover {\n",
              "      background-color: #434B5C;\n",
              "      box-shadow: 0px 1px 3px 1px rgba(0, 0, 0, 0.15);\n",
              "      filter: drop-shadow(0px 1px 2px rgba(0, 0, 0, 0.3));\n",
              "      fill: #FFFFFF;\n",
              "    }\n",
              "  </style>\n",
              "\n",
              "      <script>\n",
              "        const buttonEl =\n",
              "          document.querySelector('#df-94c00438-f2fe-44c9-abbd-ea3b20f6a4a8 button.colab-df-convert');\n",
              "        buttonEl.style.display =\n",
              "          google.colab.kernel.accessAllowed ? 'block' : 'none';\n",
              "\n",
              "        async function convertToInteractive(key) {\n",
              "          const element = document.querySelector('#df-94c00438-f2fe-44c9-abbd-ea3b20f6a4a8');\n",
              "          const dataTable =\n",
              "            await google.colab.kernel.invokeFunction('convertToInteractive',\n",
              "                                                     [key], {});\n",
              "          if (!dataTable) return;\n",
              "\n",
              "          const docLinkHtml = 'Like what you see? Visit the ' +\n",
              "            '<a target=\"_blank\" href=https://colab.research.google.com/notebooks/data_table.ipynb>data table notebook</a>'\n",
              "            + ' to learn more about interactive tables.';\n",
              "          element.innerHTML = '';\n",
              "          dataTable['output_type'] = 'display_data';\n",
              "          await google.colab.output.renderOutput(dataTable, element);\n",
              "          const docLink = document.createElement('div');\n",
              "          docLink.innerHTML = docLinkHtml;\n",
              "          element.appendChild(docLink);\n",
              "        }\n",
              "      </script>\n",
              "    </div>\n",
              "  </div>\n",
              "  "
            ]
          },
          "metadata": {},
          "execution_count": 27
        }
      ]
    },
    {
      "cell_type": "code",
      "source": [
        "len(data)"
      ],
      "metadata": {
        "colab": {
          "base_uri": "https://localhost:8080/"
        },
        "id": "gK4jK5xKPZgz",
        "outputId": "66a33c4d-1d79-4eac-b34d-d06ed67b55b5"
      },
      "execution_count": 28,
      "outputs": [
        {
          "output_type": "execute_result",
          "data": {
            "text/plain": [
              "5302"
            ]
          },
          "metadata": {},
          "execution_count": 28
        }
      ]
    },
    {
      "cell_type": "code",
      "source": [
        "# mbti에 따른 단어별 평균 출현 비율 계산\n",
        "data2 = data.groupby('mbti').mean()\n",
        "data2 = data2.transpose()\n",
        "data2.head()"
      ],
      "metadata": {
        "colab": {
          "base_uri": "https://localhost:8080/",
          "height": 206
        },
        "id": "PlvJdHrSWjH_",
        "outputId": "8bc0295e-6692-446a-d5f0-0e378f95ca17"
      },
      "execution_count": 29,
      "outputs": [
        {
          "output_type": "execute_result",
          "data": {
            "text/plain": [
              "mbti           E         I\n",
              "like    0.993696  0.993801\n",
              "think   0.988968  0.989338\n",
              "people  0.982664  0.977684\n",
              "get     0.987392  0.984379\n",
              "make    0.969267  0.972477"
            ],
            "text/html": [
              "\n",
              "  <div id=\"df-61dbc55e-d313-489f-9d5f-1508fa242355\">\n",
              "    <div class=\"colab-df-container\">\n",
              "      <div>\n",
              "<style scoped>\n",
              "    .dataframe tbody tr th:only-of-type {\n",
              "        vertical-align: middle;\n",
              "    }\n",
              "\n",
              "    .dataframe tbody tr th {\n",
              "        vertical-align: top;\n",
              "    }\n",
              "\n",
              "    .dataframe thead th {\n",
              "        text-align: right;\n",
              "    }\n",
              "</style>\n",
              "<table border=\"1\" class=\"dataframe\">\n",
              "  <thead>\n",
              "    <tr style=\"text-align: right;\">\n",
              "      <th>mbti</th>\n",
              "      <th>E</th>\n",
              "      <th>I</th>\n",
              "    </tr>\n",
              "  </thead>\n",
              "  <tbody>\n",
              "    <tr>\n",
              "      <th>like</th>\n",
              "      <td>0.993696</td>\n",
              "      <td>0.993801</td>\n",
              "    </tr>\n",
              "    <tr>\n",
              "      <th>think</th>\n",
              "      <td>0.988968</td>\n",
              "      <td>0.989338</td>\n",
              "    </tr>\n",
              "    <tr>\n",
              "      <th>people</th>\n",
              "      <td>0.982664</td>\n",
              "      <td>0.977684</td>\n",
              "    </tr>\n",
              "    <tr>\n",
              "      <th>get</th>\n",
              "      <td>0.987392</td>\n",
              "      <td>0.984379</td>\n",
              "    </tr>\n",
              "    <tr>\n",
              "      <th>make</th>\n",
              "      <td>0.969267</td>\n",
              "      <td>0.972477</td>\n",
              "    </tr>\n",
              "  </tbody>\n",
              "</table>\n",
              "</div>\n",
              "      <button class=\"colab-df-convert\" onclick=\"convertToInteractive('df-61dbc55e-d313-489f-9d5f-1508fa242355')\"\n",
              "              title=\"Convert this dataframe to an interactive table.\"\n",
              "              style=\"display:none;\">\n",
              "        \n",
              "  <svg xmlns=\"http://www.w3.org/2000/svg\" height=\"24px\"viewBox=\"0 0 24 24\"\n",
              "       width=\"24px\">\n",
              "    <path d=\"M0 0h24v24H0V0z\" fill=\"none\"/>\n",
              "    <path d=\"M18.56 5.44l.94 2.06.94-2.06 2.06-.94-2.06-.94-.94-2.06-.94 2.06-2.06.94zm-11 1L8.5 8.5l.94-2.06 2.06-.94-2.06-.94L8.5 2.5l-.94 2.06-2.06.94zm10 10l.94 2.06.94-2.06 2.06-.94-2.06-.94-.94-2.06-.94 2.06-2.06.94z\"/><path d=\"M17.41 7.96l-1.37-1.37c-.4-.4-.92-.59-1.43-.59-.52 0-1.04.2-1.43.59L10.3 9.45l-7.72 7.72c-.78.78-.78 2.05 0 2.83L4 21.41c.39.39.9.59 1.41.59.51 0 1.02-.2 1.41-.59l7.78-7.78 2.81-2.81c.8-.78.8-2.07 0-2.86zM5.41 20L4 18.59l7.72-7.72 1.47 1.35L5.41 20z\"/>\n",
              "  </svg>\n",
              "      </button>\n",
              "      \n",
              "  <style>\n",
              "    .colab-df-container {\n",
              "      display:flex;\n",
              "      flex-wrap:wrap;\n",
              "      gap: 12px;\n",
              "    }\n",
              "\n",
              "    .colab-df-convert {\n",
              "      background-color: #E8F0FE;\n",
              "      border: none;\n",
              "      border-radius: 50%;\n",
              "      cursor: pointer;\n",
              "      display: none;\n",
              "      fill: #1967D2;\n",
              "      height: 32px;\n",
              "      padding: 0 0 0 0;\n",
              "      width: 32px;\n",
              "    }\n",
              "\n",
              "    .colab-df-convert:hover {\n",
              "      background-color: #E2EBFA;\n",
              "      box-shadow: 0px 1px 2px rgba(60, 64, 67, 0.3), 0px 1px 3px 1px rgba(60, 64, 67, 0.15);\n",
              "      fill: #174EA6;\n",
              "    }\n",
              "\n",
              "    [theme=dark] .colab-df-convert {\n",
              "      background-color: #3B4455;\n",
              "      fill: #D2E3FC;\n",
              "    }\n",
              "\n",
              "    [theme=dark] .colab-df-convert:hover {\n",
              "      background-color: #434B5C;\n",
              "      box-shadow: 0px 1px 3px 1px rgba(0, 0, 0, 0.15);\n",
              "      filter: drop-shadow(0px 1px 2px rgba(0, 0, 0, 0.3));\n",
              "      fill: #FFFFFF;\n",
              "    }\n",
              "  </style>\n",
              "\n",
              "      <script>\n",
              "        const buttonEl =\n",
              "          document.querySelector('#df-61dbc55e-d313-489f-9d5f-1508fa242355 button.colab-df-convert');\n",
              "        buttonEl.style.display =\n",
              "          google.colab.kernel.accessAllowed ? 'block' : 'none';\n",
              "\n",
              "        async function convertToInteractive(key) {\n",
              "          const element = document.querySelector('#df-61dbc55e-d313-489f-9d5f-1508fa242355');\n",
              "          const dataTable =\n",
              "            await google.colab.kernel.invokeFunction('convertToInteractive',\n",
              "                                                     [key], {});\n",
              "          if (!dataTable) return;\n",
              "\n",
              "          const docLinkHtml = 'Like what you see? Visit the ' +\n",
              "            '<a target=\"_blank\" href=https://colab.research.google.com/notebooks/data_table.ipynb>data table notebook</a>'\n",
              "            + ' to learn more about interactive tables.';\n",
              "          element.innerHTML = '';\n",
              "          dataTable['output_type'] = 'display_data';\n",
              "          await google.colab.output.renderOutput(dataTable, element);\n",
              "          const docLink = document.createElement('div');\n",
              "          docLink.innerHTML = docLinkHtml;\n",
              "          element.appendChild(docLink);\n",
              "        }\n",
              "      </script>\n",
              "    </div>\n",
              "  </div>\n",
              "  "
            ]
          },
          "metadata": {},
          "execution_count": 29
        }
      ]
    },
    {
      "cell_type": "markdown",
      "source": [
        "## 3. Random Forest Classification Model\n",
        "### 하이퍼파라미터 튜닝, Grid-SearchCV"
      ],
      "metadata": {
        "id": "KJ66b6fCXmSQ"
      }
    },
    {
      "cell_type": "markdown",
      "source": [
        "* [Feature Importance](https://soohee410.github.io/iml_tree_importance)"
      ],
      "metadata": {
        "id": "d8DH2mTNY38H"
      }
    },
    {
      "cell_type": "markdown",
      "source": [
        "* Random Forest Classifier Hyperparameters\n",
        "![image.png](data:image/png;base64,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)"
      ],
      "metadata": {
        "id": "56_E2Q11bdew"
      }
    },
    {
      "cell_type": "markdown",
      "source": [
        "* GridSearchCV Hyperparameters\n",
        "![image.png](data:image/png;base64,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)\n",
        "\n",
        "  ![image.png](data:image/png;base64,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)"
      ],
      "metadata": {
        "id": "K7VByR4mFypC"
      }
    },
    {
      "cell_type": "code",
      "source": [
        "# 중요한 속성을 추출하기 위한 데이터프레임 생성\n",
        "Feature_Importance = pd.DataFrame()"
      ],
      "metadata": {
        "id": "J2bdI0BbYdNB"
      },
      "execution_count": 30,
      "outputs": []
    },
    {
      "cell_type": "code",
      "source": [
        "temp = data.copy()\n",
        "\n",
        "# MBTI One-Hot Encoding\n",
        "temp['mbti'] = temp['mbti'].apply(lambda x : 1 if x=='E' else 0)\n",
        "temp['mbti'].unique()"
      ],
      "metadata": {
        "colab": {
          "base_uri": "https://localhost:8080/"
        },
        "id": "OLFSFwKRVdYd",
        "outputId": "9fb5b8e2-bc95-457d-8442-e35d95f3482f"
      },
      "execution_count": 31,
      "outputs": [
        {
          "output_type": "execute_result",
          "data": {
            "text/plain": [
              "array([1, 0])"
            ]
          },
          "metadata": {},
          "execution_count": 31
        }
      ]
    },
    {
      "cell_type": "code",
      "source": [
        "# train-test split\n",
        "X = temp.drop('mbti', axis=1)\n",
        "y = temp['mbti']\n",
        "X_train, X_test, y_train, y_test = train_test_split(X, y, test_size=0.2, random_state=42)"
      ],
      "metadata": {
        "id": "40E2cj-VVqAx"
      },
      "execution_count": 32,
      "outputs": []
    },
    {
      "cell_type": "code",
      "source": [
        "rf = RandomForestClassifier(random_state=10, n_jobs=-1, class_weight='balanced')"
      ],
      "metadata": {
        "id": "An5Hp8dPWEas"
      },
      "execution_count": 33,
      "outputs": []
    },
    {
      "cell_type": "code",
      "source": [
        "# Grid Search\n",
        "params = {'n_estimators':[50, 100],\n",
        "            'max_depth':[3,5,7,10,12,15],\n",
        "            'max_features':[0.05, 0.1, 0.15, 0.2],\n",
        "            'criterion':['gini', 'entropy']}\n",
        "\n",
        "grid_cv = GridSearchCV(estimator=rf, param_grid=params, verbose=1, n_jobs=-1, scoring='accuracy')\n",
        "grid_cv.fit(X_train, y_train)"
      ],
      "metadata": {
        "colab": {
          "base_uri": "https://localhost:8080/"
        },
        "id": "jpyz-Ln8WJTq",
        "outputId": "6d13f6c3-d5fe-4033-e231-197a3ff43ccb"
      },
      "execution_count": 34,
      "outputs": [
        {
          "output_type": "stream",
          "name": "stdout",
          "text": [
            "Fitting 5 folds for each of 96 candidates, totalling 480 fits\n"
          ]
        },
        {
          "output_type": "execute_result",
          "data": {
            "text/plain": [
              "GridSearchCV(estimator=RandomForestClassifier(class_weight='balanced',\n",
              "                                              n_jobs=-1, random_state=10),\n",
              "             n_jobs=-1,\n",
              "             param_grid={'criterion': ['gini', 'entropy'],\n",
              "                         'max_depth': [3, 5, 7, 10, 12, 15],\n",
              "                         'max_features': [0.05, 0.1, 0.15, 0.2],\n",
              "                         'n_estimators': [50, 100]},\n",
              "             scoring='accuracy', verbose=1)"
            ]
          },
          "metadata": {},
          "execution_count": 34
        }
      ]
    },
    {
      "cell_type": "code",
      "source": [
        "print('최적 하이퍼 파라미터:\\n', grid_cv.best_params_)\n",
        "print('최고 예측 정확도: {0:.4f}'.format(grid_cv.best_score_))\n",
        "\n",
        "rf_best = grid_cv.best_estimator_ # 최적의 모델 도출"
      ],
      "metadata": {
        "colab": {
          "base_uri": "https://localhost:8080/"
        },
        "id": "Rhe_RgevWPnz",
        "outputId": "e048c816-f5e5-44be-d738-217308601f7b"
      },
      "execution_count": 35,
      "outputs": [
        {
          "output_type": "stream",
          "name": "stdout",
          "text": [
            "최적 하이퍼 파라미터:\n",
            " {'criterion': 'entropy', 'max_depth': 10, 'max_features': 0.2, 'n_estimators': 100}\n",
            "최고 예측 정확도: 0.7656\n"
          ]
        }
      ]
    },
    {
      "cell_type": "code",
      "source": [
        "# Prediction\n",
        "y_train_pred = rf_best.predict(X_train)\n",
        "y_test_pred = rf_best.predict(X_test)\n",
        "\n",
        "print('Train Accuracy : ', accuracy_score(y_train, y_train_pred))\n",
        "print('Test Accuracy : ', accuracy_score(y_test, y_test_pred))"
      ],
      "metadata": {
        "colab": {
          "base_uri": "https://localhost:8080/"
        },
        "id": "fxFhjKOIWXQr",
        "outputId": "ee26bc3a-1373-484c-9880-742635a2f60e"
      },
      "execution_count": 36,
      "outputs": [
        {
          "output_type": "stream",
          "name": "stdout",
          "text": [
            "Train Accuracy :  0.9992926196651734\n",
            "Test Accuracy :  0.7445805843543827\n"
          ]
        }
      ]
    },
    {
      "cell_type": "code",
      "source": [
        "target_ls = ['E', 'I']"
      ],
      "metadata": {
        "id": "DWIlIVOoXClo"
      },
      "execution_count": 37,
      "outputs": []
    },
    {
      "cell_type": "code",
      "source": [
        "for i in target_ls:\n",
        "  temp = data.copy()\n",
        "  # MBTI One-Hot Encoding\n",
        "  temp['mbti'] = temp['mbti'].apply(lambda x : 1 if x=='E' else 0) \n",
        "\n",
        "  # train-test split\n",
        "  X = temp.drop('mbti', axis=1)\n",
        "  y = temp['mbti']\n",
        "  X_train, X_test, y_train, y_test = train_test_split(X, y, test_size=0.2, random_state=42)\n",
        "\n",
        "  rf = RandomForestClassifier(random_state=10, n_jobs=-1, class_weight='balanced')\n",
        "\n",
        "  params = {'n_estimators':[100],\n",
        "            'max_depth':[3,5,7,10,12,15],\n",
        "            'max_features':[0.05, 0.1, 0.15, 0.2],\n",
        "            'criterion':['gini', 'entropy']}\n",
        "\n",
        "  # Grid Search\n",
        "  grid_cv = GridSearchCV(estimator=rf, param_grid=params, verbose=1, n_jobs=-1, scoring='accuracy')\n",
        "  grid_cv.fit(X_train, y_train)\n",
        "\n",
        "  rf_best = grid_cv.best_estimator_ # 최적의 모델 도출\n",
        "  print('최적 하이퍼 파라미터:\\n', grid_cv.best_params_)\n",
        "  print('최고 예측 정확도: {0:.4f}'.format(grid_cv.best_score_))\n",
        "\n",
        "  # Prediction\n",
        "  y_train_pred = rf_best.predict(X_train)\n",
        "  y_test_pred = rf_best.predict(X_test)\n",
        "  \n",
        "  print('Train Accuracy : ', accuracy_score(y_train, y_train_pred))\n",
        "  print('Test Accuracy : ', accuracy_score(y_test, y_test_pred))\n",
        "\n",
        "  # 중요 속성(=단어) 출력\n",
        "  Feature_Importance['Feature'] = X_train.columns\n",
        "  Feature_Importance[i] = rf_best.feature_importances_"
      ],
      "metadata": {
        "colab": {
          "base_uri": "https://localhost:8080/"
        },
        "id": "gSyfz5_wY9ua",
        "outputId": "8667b4dc-31a8-4679-9aa9-fbb93f5087e0"
      },
      "execution_count": 38,
      "outputs": [
        {
          "output_type": "stream",
          "name": "stdout",
          "text": [
            "Fitting 5 folds for each of 48 candidates, totalling 240 fits\n",
            "최적 하이퍼 파라미터:\n",
            " {'criterion': 'entropy', 'max_depth': 10, 'max_features': 0.2, 'n_estimators': 100}\n",
            "최고 예측 정확도: 0.7656\n",
            "Train Accuracy :  0.9992926196651734\n",
            "Test Accuracy :  0.7445805843543827\n",
            "Fitting 5 folds for each of 48 candidates, totalling 240 fits\n",
            "최적 하이퍼 파라미터:\n",
            " {'criterion': 'entropy', 'max_depth': 10, 'max_features': 0.2, 'n_estimators': 100}\n",
            "최고 예측 정확도: 0.7656\n",
            "Train Accuracy :  0.9992926196651734\n",
            "Test Accuracy :  0.7445805843543827\n"
          ]
        }
      ]
    },
    {
      "cell_type": "code",
      "source": [
        "# 도출한 최적의 하이퍼파라미터를 바탕으로 중요 피쳐 시각화"
      ],
      "metadata": {
        "id": "zxgI0zlsZdvf"
      },
      "execution_count": 39,
      "outputs": []
    },
    {
      "cell_type": "markdown",
      "source": [
        "## Support Vector Machine Model\n",
        "\n",
        "### TfidVectorizer\n",
        "TfidVectorizer calculates an inverse frequency for each word.\n",
        "\n",
        "It converts a collection of raw documents to a matrix of TF-IDF features.\n",
        "\n",
        "### References\n",
        "https://en.wikipedia.org/wiki/Support-vector_machine https://scikit-learn.org/stable/modules/generated/sklearn.svm.LinearSVC.html#sklearn.svm.LinearSVC\n",
        "\n",
        "### Model Pipeline\n",
        "A pipelined model ir order to facilitate the entire process of CountVectorizer (TfidfVectorizer) and svm.LinearSVC model"
      ],
      "metadata": {
        "id": "QLCb_REZdFlJ"
      }
    },
    {
      "cell_type": "code",
      "source": [
        "# Dataset Reload\n",
        "data = pd.read_csv('/content/drive/MyDrive/MBTI 500.csv', encoding='UTF-8')\n",
        "USER_SAMPLE = 1\n",
        "# Sampling\n",
        "if USER_SAMPLE :\n",
        "    data = data.groupby('type').sample(frac = 0.05)\n",
        "data.reset_index(drop = True, inplace = True)\n",
        "\n",
        "data.head()"
      ],
      "metadata": {
        "colab": {
          "base_uri": "https://localhost:8080/",
          "height": 206
        },
        "id": "YoHr5WEWdjfX",
        "outputId": "730e7063-d44e-48f3-de4e-609595e42ad1"
      },
      "execution_count": 40,
      "outputs": [
        {
          "output_type": "execute_result",
          "data": {
            "text/plain": [
              "                                               posts  type\n",
              "0  sign get dress go work hard class follow instr...  ENFJ\n",
              "1  lot reflection get walk outgrow martyr complex...  ENFJ\n",
              "2  associate high ti xntps lot intellectual willp...  ENFJ\n",
              "3  want see zombie courtesan costume well two fri...  ENFJ\n",
              "4  deep personal mean use idea come real life pla...  ENFJ"
            ],
            "text/html": [
              "\n",
              "  <div id=\"df-2a6bef69-e6b9-4f41-ab59-9ae0db2e10e0\">\n",
              "    <div class=\"colab-df-container\">\n",
              "      <div>\n",
              "<style scoped>\n",
              "    .dataframe tbody tr th:only-of-type {\n",
              "        vertical-align: middle;\n",
              "    }\n",
              "\n",
              "    .dataframe tbody tr th {\n",
              "        vertical-align: top;\n",
              "    }\n",
              "\n",
              "    .dataframe thead th {\n",
              "        text-align: right;\n",
              "    }\n",
              "</style>\n",
              "<table border=\"1\" class=\"dataframe\">\n",
              "  <thead>\n",
              "    <tr style=\"text-align: right;\">\n",
              "      <th></th>\n",
              "      <th>posts</th>\n",
              "      <th>type</th>\n",
              "    </tr>\n",
              "  </thead>\n",
              "  <tbody>\n",
              "    <tr>\n",
              "      <th>0</th>\n",
              "      <td>sign get dress go work hard class follow instr...</td>\n",
              "      <td>ENFJ</td>\n",
              "    </tr>\n",
              "    <tr>\n",
              "      <th>1</th>\n",
              "      <td>lot reflection get walk outgrow martyr complex...</td>\n",
              "      <td>ENFJ</td>\n",
              "    </tr>\n",
              "    <tr>\n",
              "      <th>2</th>\n",
              "      <td>associate high ti xntps lot intellectual willp...</td>\n",
              "      <td>ENFJ</td>\n",
              "    </tr>\n",
              "    <tr>\n",
              "      <th>3</th>\n",
              "      <td>want see zombie courtesan costume well two fri...</td>\n",
              "      <td>ENFJ</td>\n",
              "    </tr>\n",
              "    <tr>\n",
              "      <th>4</th>\n",
              "      <td>deep personal mean use idea come real life pla...</td>\n",
              "      <td>ENFJ</td>\n",
              "    </tr>\n",
              "  </tbody>\n",
              "</table>\n",
              "</div>\n",
              "      <button class=\"colab-df-convert\" onclick=\"convertToInteractive('df-2a6bef69-e6b9-4f41-ab59-9ae0db2e10e0')\"\n",
              "              title=\"Convert this dataframe to an interactive table.\"\n",
              "              style=\"display:none;\">\n",
              "        \n",
              "  <svg xmlns=\"http://www.w3.org/2000/svg\" height=\"24px\"viewBox=\"0 0 24 24\"\n",
              "       width=\"24px\">\n",
              "    <path d=\"M0 0h24v24H0V0z\" fill=\"none\"/>\n",
              "    <path d=\"M18.56 5.44l.94 2.06.94-2.06 2.06-.94-2.06-.94-.94-2.06-.94 2.06-2.06.94zm-11 1L8.5 8.5l.94-2.06 2.06-.94-2.06-.94L8.5 2.5l-.94 2.06-2.06.94zm10 10l.94 2.06.94-2.06 2.06-.94-2.06-.94-.94-2.06-.94 2.06-2.06.94z\"/><path d=\"M17.41 7.96l-1.37-1.37c-.4-.4-.92-.59-1.43-.59-.52 0-1.04.2-1.43.59L10.3 9.45l-7.72 7.72c-.78.78-.78 2.05 0 2.83L4 21.41c.39.39.9.59 1.41.59.51 0 1.02-.2 1.41-.59l7.78-7.78 2.81-2.81c.8-.78.8-2.07 0-2.86zM5.41 20L4 18.59l7.72-7.72 1.47 1.35L5.41 20z\"/>\n",
              "  </svg>\n",
              "      </button>\n",
              "      \n",
              "  <style>\n",
              "    .colab-df-container {\n",
              "      display:flex;\n",
              "      flex-wrap:wrap;\n",
              "      gap: 12px;\n",
              "    }\n",
              "\n",
              "    .colab-df-convert {\n",
              "      background-color: #E8F0FE;\n",
              "      border: none;\n",
              "      border-radius: 50%;\n",
              "      cursor: pointer;\n",
              "      display: none;\n",
              "      fill: #1967D2;\n",
              "      height: 32px;\n",
              "      padding: 0 0 0 0;\n",
              "      width: 32px;\n",
              "    }\n",
              "\n",
              "    .colab-df-convert:hover {\n",
              "      background-color: #E2EBFA;\n",
              "      box-shadow: 0px 1px 2px rgba(60, 64, 67, 0.3), 0px 1px 3px 1px rgba(60, 64, 67, 0.15);\n",
              "      fill: #174EA6;\n",
              "    }\n",
              "\n",
              "    [theme=dark] .colab-df-convert {\n",
              "      background-color: #3B4455;\n",
              "      fill: #D2E3FC;\n",
              "    }\n",
              "\n",
              "    [theme=dark] .colab-df-convert:hover {\n",
              "      background-color: #434B5C;\n",
              "      box-shadow: 0px 1px 3px 1px rgba(0, 0, 0, 0.15);\n",
              "      filter: drop-shadow(0px 1px 2px rgba(0, 0, 0, 0.3));\n",
              "      fill: #FFFFFF;\n",
              "    }\n",
              "  </style>\n",
              "\n",
              "      <script>\n",
              "        const buttonEl =\n",
              "          document.querySelector('#df-2a6bef69-e6b9-4f41-ab59-9ae0db2e10e0 button.colab-df-convert');\n",
              "        buttonEl.style.display =\n",
              "          google.colab.kernel.accessAllowed ? 'block' : 'none';\n",
              "\n",
              "        async function convertToInteractive(key) {\n",
              "          const element = document.querySelector('#df-2a6bef69-e6b9-4f41-ab59-9ae0db2e10e0');\n",
              "          const dataTable =\n",
              "            await google.colab.kernel.invokeFunction('convertToInteractive',\n",
              "                                                     [key], {});\n",
              "          if (!dataTable) return;\n",
              "\n",
              "          const docLinkHtml = 'Like what you see? Visit the ' +\n",
              "            '<a target=\"_blank\" href=https://colab.research.google.com/notebooks/data_table.ipynb>data table notebook</a>'\n",
              "            + ' to learn more about interactive tables.';\n",
              "          element.innerHTML = '';\n",
              "          dataTable['output_type'] = 'display_data';\n",
              "          await google.colab.output.renderOutput(dataTable, element);\n",
              "          const docLink = document.createElement('div');\n",
              "          docLink.innerHTML = docLinkHtml;\n",
              "          element.appendChild(docLink);\n",
              "        }\n",
              "      </script>\n",
              "    </div>\n",
              "  </div>\n",
              "  "
            ]
          },
          "metadata": {},
          "execution_count": 40
        }
      ]
    },
    {
      "cell_type": "code",
      "source": [
        "data = data.rename(columns={'type' : 'mbti'})"
      ],
      "metadata": {
        "id": "dLkFgg5h__CF"
      },
      "execution_count": 41,
      "outputs": []
    },
    {
      "cell_type": "code",
      "source": [
        "data['mbti'].replace(['ESTP', 'ESTJ', 'ESFP', 'ESFJ', 'ENTP', 'ENTJ', 'ENFP', 'ENFJ'], 'E', inplace=True)\n",
        "data['mbti'].replace(['ISTP', 'ISTJ', 'ISFP', 'ISFJ', 'INTP', 'INTJ', 'INFP', 'INFJ'], 'I', inplace=True)\n",
        "data.head()"
      ],
      "metadata": {
        "colab": {
          "base_uri": "https://localhost:8080/",
          "height": 206
        },
        "id": "uO4DhHg_Deov",
        "outputId": "09186db3-ce22-4480-e502-ce6c60b7908f"
      },
      "execution_count": 42,
      "outputs": [
        {
          "output_type": "execute_result",
          "data": {
            "text/plain": [
              "                                               posts mbti\n",
              "0  sign get dress go work hard class follow instr...    E\n",
              "1  lot reflection get walk outgrow martyr complex...    E\n",
              "2  associate high ti xntps lot intellectual willp...    E\n",
              "3  want see zombie courtesan costume well two fri...    E\n",
              "4  deep personal mean use idea come real life pla...    E"
            ],
            "text/html": [
              "\n",
              "  <div id=\"df-31d6364b-855f-45ef-ab12-e68f06a4db84\">\n",
              "    <div class=\"colab-df-container\">\n",
              "      <div>\n",
              "<style scoped>\n",
              "    .dataframe tbody tr th:only-of-type {\n",
              "        vertical-align: middle;\n",
              "    }\n",
              "\n",
              "    .dataframe tbody tr th {\n",
              "        vertical-align: top;\n",
              "    }\n",
              "\n",
              "    .dataframe thead th {\n",
              "        text-align: right;\n",
              "    }\n",
              "</style>\n",
              "<table border=\"1\" class=\"dataframe\">\n",
              "  <thead>\n",
              "    <tr style=\"text-align: right;\">\n",
              "      <th></th>\n",
              "      <th>posts</th>\n",
              "      <th>mbti</th>\n",
              "    </tr>\n",
              "  </thead>\n",
              "  <tbody>\n",
              "    <tr>\n",
              "      <th>0</th>\n",
              "      <td>sign get dress go work hard class follow instr...</td>\n",
              "      <td>E</td>\n",
              "    </tr>\n",
              "    <tr>\n",
              "      <th>1</th>\n",
              "      <td>lot reflection get walk outgrow martyr complex...</td>\n",
              "      <td>E</td>\n",
              "    </tr>\n",
              "    <tr>\n",
              "      <th>2</th>\n",
              "      <td>associate high ti xntps lot intellectual willp...</td>\n",
              "      <td>E</td>\n",
              "    </tr>\n",
              "    <tr>\n",
              "      <th>3</th>\n",
              "      <td>want see zombie courtesan costume well two fri...</td>\n",
              "      <td>E</td>\n",
              "    </tr>\n",
              "    <tr>\n",
              "      <th>4</th>\n",
              "      <td>deep personal mean use idea come real life pla...</td>\n",
              "      <td>E</td>\n",
              "    </tr>\n",
              "  </tbody>\n",
              "</table>\n",
              "</div>\n",
              "      <button class=\"colab-df-convert\" onclick=\"convertToInteractive('df-31d6364b-855f-45ef-ab12-e68f06a4db84')\"\n",
              "              title=\"Convert this dataframe to an interactive table.\"\n",
              "              style=\"display:none;\">\n",
              "        \n",
              "  <svg xmlns=\"http://www.w3.org/2000/svg\" height=\"24px\"viewBox=\"0 0 24 24\"\n",
              "       width=\"24px\">\n",
              "    <path d=\"M0 0h24v24H0V0z\" fill=\"none\"/>\n",
              "    <path d=\"M18.56 5.44l.94 2.06.94-2.06 2.06-.94-2.06-.94-.94-2.06-.94 2.06-2.06.94zm-11 1L8.5 8.5l.94-2.06 2.06-.94-2.06-.94L8.5 2.5l-.94 2.06-2.06.94zm10 10l.94 2.06.94-2.06 2.06-.94-2.06-.94-.94-2.06-.94 2.06-2.06.94z\"/><path d=\"M17.41 7.96l-1.37-1.37c-.4-.4-.92-.59-1.43-.59-.52 0-1.04.2-1.43.59L10.3 9.45l-7.72 7.72c-.78.78-.78 2.05 0 2.83L4 21.41c.39.39.9.59 1.41.59.51 0 1.02-.2 1.41-.59l7.78-7.78 2.81-2.81c.8-.78.8-2.07 0-2.86zM5.41 20L4 18.59l7.72-7.72 1.47 1.35L5.41 20z\"/>\n",
              "  </svg>\n",
              "      </button>\n",
              "      \n",
              "  <style>\n",
              "    .colab-df-container {\n",
              "      display:flex;\n",
              "      flex-wrap:wrap;\n",
              "      gap: 12px;\n",
              "    }\n",
              "\n",
              "    .colab-df-convert {\n",
              "      background-color: #E8F0FE;\n",
              "      border: none;\n",
              "      border-radius: 50%;\n",
              "      cursor: pointer;\n",
              "      display: none;\n",
              "      fill: #1967D2;\n",
              "      height: 32px;\n",
              "      padding: 0 0 0 0;\n",
              "      width: 32px;\n",
              "    }\n",
              "\n",
              "    .colab-df-convert:hover {\n",
              "      background-color: #E2EBFA;\n",
              "      box-shadow: 0px 1px 2px rgba(60, 64, 67, 0.3), 0px 1px 3px 1px rgba(60, 64, 67, 0.15);\n",
              "      fill: #174EA6;\n",
              "    }\n",
              "\n",
              "    [theme=dark] .colab-df-convert {\n",
              "      background-color: #3B4455;\n",
              "      fill: #D2E3FC;\n",
              "    }\n",
              "\n",
              "    [theme=dark] .colab-df-convert:hover {\n",
              "      background-color: #434B5C;\n",
              "      box-shadow: 0px 1px 3px 1px rgba(0, 0, 0, 0.15);\n",
              "      filter: drop-shadow(0px 1px 2px rgba(0, 0, 0, 0.3));\n",
              "      fill: #FFFFFF;\n",
              "    }\n",
              "  </style>\n",
              "\n",
              "      <script>\n",
              "        const buttonEl =\n",
              "          document.querySelector('#df-31d6364b-855f-45ef-ab12-e68f06a4db84 button.colab-df-convert');\n",
              "        buttonEl.style.display =\n",
              "          google.colab.kernel.accessAllowed ? 'block' : 'none';\n",
              "\n",
              "        async function convertToInteractive(key) {\n",
              "          const element = document.querySelector('#df-31d6364b-855f-45ef-ab12-e68f06a4db84');\n",
              "          const dataTable =\n",
              "            await google.colab.kernel.invokeFunction('convertToInteractive',\n",
              "                                                     [key], {});\n",
              "          if (!dataTable) return;\n",
              "\n",
              "          const docLinkHtml = 'Like what you see? Visit the ' +\n",
              "            '<a target=\"_blank\" href=https://colab.research.google.com/notebooks/data_table.ipynb>data table notebook</a>'\n",
              "            + ' to learn more about interactive tables.';\n",
              "          element.innerHTML = '';\n",
              "          dataTable['output_type'] = 'display_data';\n",
              "          await google.colab.output.renderOutput(dataTable, element);\n",
              "          const docLink = document.createElement('div');\n",
              "          docLink.innerHTML = docLinkHtml;\n",
              "          element.appendChild(docLink);\n",
              "        }\n",
              "      </script>\n",
              "    </div>\n",
              "  </div>\n",
              "  "
            ]
          },
          "metadata": {},
          "execution_count": 42
        }
      ]
    },
    {
      "cell_type": "code",
      "source": [
        "# mbti 단어를 stopwords로 지정, posts 컬럼 정제\n",
        "# stopwords = nltk.corpus.stopwords.words('english')\n",
        "# my_stopwords = ['estp', 'estj', 'esfp', 'esfj', 'entp', 'entj', 'enfp', 'enfj', 'istp', 'istj', 'isfp', 'isfj', 'intp', 'intj', 'infp', 'infj']\n",
        "# stopwords.extend(my_stopwords)\n",
        "\n",
        "# data['mbti'] = data['mbti'].apply(lambda x : [item for item in x if item not in stopwords])"
      ],
      "metadata": {
        "id": "mgGRgEHwAiGd"
      },
      "execution_count": 43,
      "outputs": []
    },
    {
      "cell_type": "code",
      "source": [
        "# train-test split\n",
        "X = data['posts'] # features\n",
        "y = data['mbti']  # labels\n",
        "X_train, X_test, y_train, y_test = train_test_split(X, y, test_size=0.2, random_state=42)"
      ],
      "metadata": {
        "id": "iO8UAkcbdd_9"
      },
      "execution_count": 44,
      "outputs": []
    },
    {
      "cell_type": "code",
      "source": [
        "# Create an Instance to Vectorizer\n",
        "vectorizer = TfidfVectorizer()"
      ],
      "metadata": {
        "id": "15_xKhOsAzn2"
      },
      "execution_count": 45,
      "outputs": []
    },
    {
      "cell_type": "code",
      "source": [
        "# training the vectorizer\n",
        "X_train_tfidf = vectorizer.fit_transform(X_train)"
      ],
      "metadata": {
        "id": "OurWSk4dCVCp"
      },
      "execution_count": 46,
      "outputs": []
    },
    {
      "cell_type": "code",
      "source": [
        "# training the classifier\n",
        "svm = LinearSVC()\n",
        "svm.fit(X_train_tfidf, y_train)"
      ],
      "metadata": {
        "colab": {
          "base_uri": "https://localhost:8080/"
        },
        "id": "KVRadC66CcTa",
        "outputId": "5d44c663-a068-4ddd-f03e-d1e91cba34c6"
      },
      "execution_count": 47,
      "outputs": [
        {
          "output_type": "execute_result",
          "data": {
            "text/plain": [
              "LinearSVC()"
            ]
          },
          "metadata": {},
          "execution_count": 47
        }
      ]
    },
    {
      "cell_type": "code",
      "source": [
        "# Pipelining the Vectorizer and Classifier\n",
        "clf = Pipeline([('tfidf', TfidfVectorizer()), ('clf', LinearSVC())])\n",
        "clf.fit(X_train, y_train)"
      ],
      "metadata": {
        "colab": {
          "base_uri": "https://localhost:8080/"
        },
        "id": "dvYwfbuUCi8h",
        "outputId": "cdf09aff-9297-4ba0-c97d-53e7b2857dea"
      },
      "execution_count": 48,
      "outputs": [
        {
          "output_type": "execute_result",
          "data": {
            "text/plain": [
              "Pipeline(steps=[('tfidf', TfidfVectorizer()), ('clf', LinearSVC())])"
            ]
          },
          "metadata": {},
          "execution_count": 48
        }
      ]
    },
    {
      "cell_type": "code",
      "source": [
        "# prediction\n",
        "prediction = clf.predict(X_test)"
      ],
      "metadata": {
        "id": "5LL-pQmoG4En"
      },
      "execution_count": 49,
      "outputs": []
    },
    {
      "cell_type": "code",
      "source": [
        "print(classification_report(y_test, prediction))"
      ],
      "metadata": {
        "colab": {
          "base_uri": "https://localhost:8080/"
        },
        "id": "A7vxFCw2KeW7",
        "outputId": "596202b6-9e66-47f0-ff56-b9258630eabd"
      },
      "execution_count": 50,
      "outputs": [
        {
          "output_type": "stream",
          "name": "stdout",
          "text": [
            "              precision    recall  f1-score   support\n",
            "\n",
            "           E       0.88      0.61      0.72       271\n",
            "           I       0.88      0.97      0.92       790\n",
            "\n",
            "    accuracy                           0.88      1061\n",
            "   macro avg       0.88      0.79      0.82      1061\n",
            "weighted avg       0.88      0.88      0.87      1061\n",
            "\n"
          ]
        }
      ]
    },
    {
      "cell_type": "code",
      "source": [
        "print(f\"Overall accuracy of the model: {round(metrics.accuracy_score(y_test, prediction),2)}\")"
      ],
      "metadata": {
        "colab": {
          "base_uri": "https://localhost:8080/"
        },
        "id": "2kjYWUzBKjoW",
        "outputId": "2ed34ac9-c3b1-462b-ea70-f8e3988cc77a"
      },
      "execution_count": 51,
      "outputs": [
        {
          "output_type": "stream",
          "name": "stdout",
          "text": [
            "Overall accuracy of the model: 0.88\n"
          ]
        }
      ]
    },
    {
      "cell_type": "code",
      "source": [
        "# mglearn Chart 그리기"
      ],
      "metadata": {
        "id": "Gpd6e-FaK0_7"
      },
      "execution_count": 52,
      "outputs": []
    },
    {
      "cell_type": "code",
      "source": [],
      "metadata": {
        "id": "Wo4j1-5ajTGW"
      },
      "execution_count": 52,
      "outputs": []
    }
  ]
}